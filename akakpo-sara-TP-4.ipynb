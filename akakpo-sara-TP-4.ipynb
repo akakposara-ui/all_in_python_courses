{
 "cells": [
  {
   "cell_type": "markdown",
   "id": "d68c1dee",
   "metadata": {
    "id": "d68c1dee"
   },
   "source": [
    "# Practical_4: Flow control"
   ]
  },
  {
   "cell_type": "markdown",
   "id": "c0476e76-6012-4942-8f1a-0bb0cb345b8f",
   "metadata": {
    "id": "bea983a3"
   },
   "source": [
    "---\n",
    "\n",
    "### Exercise 1:\n",
    "Write a Python program that checks if a number is positive or negative.\n",
    "\n",
    "```python\n",
    "# Exercise 1\n",
    "```\n",
    "\n",
    "----"
   ]
  },
  {
   "cell_type": "code",
   "execution_count": 1,
   "id": "0a5cea4c-b656-4a13-92c3-12e4182d9205",
   "metadata": {},
   "outputs": [
    {
     "name": "stdout",
     "output_type": "stream",
     "text": [
      "Positive\n"
     ]
    }
   ],
   "source": [
    "def num_pos(num):\n",
    "    if num > 0:\n",
    "        return \"Positive\"\n",
    "\n",
    "    else:\n",
    "        return \"Negative\"\n",
    "\n",
    "print(num_pos(4))"
   ]
  },
  {
   "cell_type": "markdown",
   "id": "cacc7da9-99f6-4231-8f0d-bb9e305ab9c3",
   "metadata": {
    "id": "bea983a3"
   },
   "source": [
    "### Exercise 2:\n",
    "Write a Python function that checks if a string starts with a vowel.\n",
    "\n",
    "```python\n",
    "# Exercise 2\n",
    "```\n",
    "\n",
    "---"
   ]
  },
  {
   "cell_type": "code",
   "execution_count": 11,
   "id": "f74c634a-b4e0-4627-b292-6b9585317511",
   "metadata": {},
   "outputs": [
    {
     "name": "stdout",
     "output_type": "stream",
     "text": [
      "True\n"
     ]
    }
   ],
   "source": [
    "def start_vo(vo):\n",
    "    return vo[0].lower() in 'aeiouAEIOU'\n",
    "\n",
    "print(start_vo(\"All\"))"
   ]
  },
  {
   "cell_type": "markdown",
   "id": "601a249d-6d58-42e0-98a9-a46b06e7a4ed",
   "metadata": {
    "id": "bea983a3"
   },
   "source": [
    "### Exercise 3:\n",
    "Write a Python program that takes a list of integers and prints \"Even\" for each even number and \"Odd\" for each odd number.\n",
    "\n",
    "```python\n",
    "# Exercise 3\n",
    "```\n",
    "\n",
    "---"
   ]
  },
  {
   "cell_type": "code",
   "execution_count": 17,
   "id": "9d2ccd62-f231-4254-a96c-94cc5aba06e1",
   "metadata": {},
   "outputs": [
    {
     "name": "stdout",
     "output_type": "stream",
     "text": [
      "Even number\n",
      "Odd number\n",
      "Odd number\n"
     ]
    }
   ],
   "source": [
    "def even_or_odd(lst):\n",
    "    for num in lst:\n",
    "        print(\"Even number\" if num%2==0 else \"Odd number\")\n",
    "\n",
    "even_or_odd([34,45,77])"
   ]
  },
  {
   "cell_type": "markdown",
   "id": "9bac0a8f-2e70-46b1-b66a-4d2402e850df",
   "metadata": {
    "id": "bea983a3"
   },
   "source": [
    "### Exercise 4:\n",
    "Write a Python program that checks if a given year is a leap year.\n",
    "\n",
    "```python\n",
    "# Exercise 4\n",
    "```\n",
    "\n",
    "---"
   ]
  },
  {
   "cell_type": "code",
   "execution_count": 19,
   "id": "7e032fec-e2b7-455e-a818-f84b0e3ee3cb",
   "metadata": {},
   "outputs": [
    {
     "data": {
      "text/plain": [
       "False"
      ]
     },
     "execution_count": 19,
     "metadata": {},
     "output_type": "execute_result"
    }
   ],
   "source": [
    "def is_leap(yr):\n",
    "    return yr%4==0 and (yr%100 != 0 or yr % 400 ==0)\n",
    "\n",
    "is_leap(2027)"
   ]
  },
  {
   "cell_type": "markdown",
   "id": "04025c3f-f0be-425e-ad64-97bc265ebd57",
   "metadata": {
    "id": "bea983a3"
   },
   "source": [
    "### Exercise 5:\n",
    "Write a Python function that checks if a number is divisible by both 3 and 5.\n",
    "\n",
    "```python\n",
    "# Exercise 5\n",
    "```\n",
    "\n",
    "---"
   ]
  },
  {
   "cell_type": "code",
   "execution_count": 21,
   "id": "c710b4dc-acbb-4d9c-b2aa-b5d1bc8f44b5",
   "metadata": {},
   "outputs": [
    {
     "data": {
      "text/plain": [
       "True"
      ]
     },
     "execution_count": 21,
     "metadata": {},
     "output_type": "execute_result"
    }
   ],
   "source": [
    "def div(n):\n",
    "    return n%3 == 0 and n%5 == 0\n",
    "\n",
    "div(15)"
   ]
  },
  {
   "cell_type": "markdown",
   "id": "bc5ab91f-8f50-4b4b-b609-a092c6e8907e",
   "metadata": {
    "id": "bea983a3"
   },
   "source": [
    "### Exercise 6:\n",
    "Write a Python program that prints \"Hot\" if the temperature is above 30, \"Warm\" if it is between 15 and 30, and \"Cold\" if it is below 15.\n",
    "\n",
    "```python\n",
    "# Exercise 6\n",
    "```\n",
    "\n",
    "---"
   ]
  },
  {
   "cell_type": "code",
   "execution_count": 53,
   "id": "a45fcb4d-f622-4b77-9473-823fba9bcac4",
   "metadata": {},
   "outputs": [
    {
     "data": {
      "text/plain": [
       "'Warm'"
      ]
     },
     "execution_count": 53,
     "metadata": {},
     "output_type": "execute_result"
    }
   ],
   "source": [
    "def tem(tp):\n",
    "    if tp > 30:\n",
    "        return \"Hot\"\n",
    "\n",
    "    elif 15 <= tp <=30:\n",
    "        return \"Warm\"\n",
    "\n",
    "    else:\n",
    "        return \"Cold\"\n",
    "\n",
    "tem(15)"
   ]
  },
  {
   "cell_type": "markdown",
   "id": "b3fc5df3-c9dd-43dd-92fb-0a0c5a2a1a13",
   "metadata": {
    "id": "bea983a3"
   },
   "source": [
    "### Exercise 7:\n",
    "Write a Python program that checks if a string contains the letter 'a'.\n",
    "\n",
    "```python\n",
    "# Exercise 7\n",
    "```\n",
    "\n",
    "---"
   ]
  },
  {
   "cell_type": "code",
   "execution_count": 27,
   "id": "e0b5915d-f1ea-4504-ba6a-d965f925e520",
   "metadata": {},
   "outputs": [
    {
     "data": {
      "text/plain": [
       "True"
      ]
     },
     "execution_count": 27,
     "metadata": {},
     "output_type": "execute_result"
    }
   ],
   "source": [
    "def con(s):\n",
    "    return 'a' in s.lower()\n",
    "\n",
    "con(\"abalo\")"
   ]
  },
  {
   "cell_type": "markdown",
   "id": "697f06f0-1148-4f3e-8046-b471148c4a86",
   "metadata": {
    "id": "bea983a3"
   },
   "source": [
    "### Exercise 8:\n",
    "Write a Python function that checks if two numbers are equal, or which one is larger.\n",
    "\n",
    "```python\n",
    "# Exercise 8\n",
    "```\n",
    "\n",
    "---"
   ]
  },
  {
   "cell_type": "code",
   "execution_count": 29,
   "id": "243bcf91-394c-4448-a9bc-d3d860e6248a",
   "metadata": {},
   "outputs": [
    {
     "data": {
      "text/plain": [
       "'Second is larger'"
      ]
     },
     "execution_count": 29,
     "metadata": {},
     "output_type": "execute_result"
    }
   ],
   "source": [
    "def com(a, b):\n",
    "    if a==b:\n",
    "        return \"Equal\"\n",
    "\n",
    "    elif a>b:\n",
    "        return \"First is larger\"\n",
    "    else:\n",
    "        return \"Second is larger\"\n",
    "\n",
    "com(23, 89)"
   ]
  },
  {
   "cell_type": "markdown",
   "id": "4a3d6389-6b03-4b50-80bf-6f2c7c7b4690",
   "metadata": {
    "id": "bea983a3"
   },
   "source": [
    "### Exercise 9:\n",
    "Write a Python program that checks if a list is empty.\n",
    "\n",
    "```python\n",
    "# Exercise 9\n",
    "```\n",
    "\n",
    "---"
   ]
  },
  {
   "cell_type": "code",
   "execution_count": 31,
   "id": "2d468e94-8bd4-4763-a526-01878aa63f76",
   "metadata": {},
   "outputs": [
    {
     "data": {
      "text/plain": [
       "True"
      ]
     },
     "execution_count": 31,
     "metadata": {},
     "output_type": "execute_result"
    }
   ],
   "source": [
    "def is_list(lst):\n",
    "    return len(lst) ==0\n",
    "\n",
    "is_list([])"
   ]
  },
  {
   "cell_type": "markdown",
   "id": "0c5b57f4-3788-4a3c-9d58-87ffc0ed5716",
   "metadata": {
    "id": "bea983a3"
   },
   "source": [
    "### Exercise 10:\n",
    "Write a Python function that takes two strings and checks if they are anagrams.\n",
    "\n",
    "```python\n",
    "# Exercise 10\n",
    "```\n",
    "\n",
    "---"
   ]
  },
  {
   "cell_type": "code",
   "execution_count": 33,
   "id": "960f7e3d-6504-4cc9-99e0-8c6e109d99b8",
   "metadata": {},
   "outputs": [
    {
     "data": {
      "text/plain": [
       "False"
      ]
     },
     "execution_count": 33,
     "metadata": {},
     "output_type": "execute_result"
    }
   ],
   "source": [
    "def ana(s1, s2):\n",
    "    return sorted(s1) == sorted(s2)\n",
    "\n",
    "ana(\"Hello\", \"Baby\")"
   ]
  },
  {
   "cell_type": "markdown",
   "id": "73d8e9d5-2f80-413c-bd15-34935bdcf0c2",
   "metadata": {
    "id": "bea983a3"
   },
   "source": [
    "### Exercise 11:\n",
    "Write a Python program that checks if a number is prime.\n",
    "\n",
    "```python\n",
    "# Exercise 11\n",
    "```\n",
    "\n",
    "---"
   ]
  },
  {
   "cell_type": "code",
   "execution_count": 35,
   "id": "78dedb77-f6df-49b1-af86-e77c2ef35ea2",
   "metadata": {},
   "outputs": [
    {
     "data": {
      "text/plain": [
       "True"
      ]
     },
     "execution_count": 35,
     "metadata": {},
     "output_type": "execute_result"
    }
   ],
   "source": [
    "def is_prime(n):\n",
    "    if n < 2:\n",
    "        return False\n",
    "\n",
    "    for i in range(2, int(n**0.5) + 1):\n",
    "        if n%i ==0:\n",
    "            return False\n",
    "\n",
    "    return True\n",
    "\n",
    "is_prime(11)"
   ]
  },
  {
   "cell_type": "markdown",
   "id": "808e74b1-7b53-4a3d-bd3b-4c5ea6ed5a58",
   "metadata": {
    "id": "bea983a3"
   },
   "source": [
    "### Exercise 12:\n",
    "Write a Python program that checks if a list of numbers is sorted in ascending order.\n",
    "\n",
    "```python\n",
    "# Exercise 12\n",
    "```\n",
    "\n",
    "---"
   ]
  },
  {
   "cell_type": "code",
   "execution_count": 37,
   "id": "ffe24845-11d0-4ea4-b127-facda23457fc",
   "metadata": {},
   "outputs": [
    {
     "data": {
      "text/plain": [
       "False"
      ]
     },
     "execution_count": 37,
     "metadata": {},
     "output_type": "execute_result"
    }
   ],
   "source": [
    "def is_sort(lst):\n",
    "    return lst == sorted(lst)\n",
    "\n",
    "is_sort([1,7,9,3])"
   ]
  },
  {
   "cell_type": "markdown",
   "id": "76fc992c-4399-41de-84bf-1b23353756b3",
   "metadata": {
    "id": "bea983a3"
   },
   "source": [
    "### Exercise 13:\n",
    "Write a Python function that takes a character and checks if it is a digit.\n",
    "\n",
    "```python\n",
    "# Exercise 13\n",
    "```\n",
    "\n",
    "---"
   ]
  },
  {
   "cell_type": "code",
   "execution_count": 41,
   "id": "77a41af8-1db8-41e2-9d2c-470f0820a2bd",
   "metadata": {},
   "outputs": [
    {
     "data": {
      "text/plain": [
       "True"
      ]
     },
     "execution_count": 41,
     "metadata": {},
     "output_type": "execute_result"
    }
   ],
   "source": [
    "def is_digit(c):\n",
    "    return c.isdigit()\n",
    "\n",
    "is_digit('3')"
   ]
  },
  {
   "cell_type": "markdown",
   "id": "fbd7de74-07cf-4eb9-b234-27e99f921786",
   "metadata": {
    "id": "bea983a3"
   },
   "source": [
    "### Exercise 14:\n",
    "Write a Python function that checks if a string contains only uppercase letters.\n",
    "\n",
    "```python\n",
    "# Exercise 14\n",
    "```\n",
    "\n",
    "---"
   ]
  },
  {
   "cell_type": "code",
   "execution_count": 43,
   "id": "6c5e4444-ba67-423e-9a21-4073168881c8",
   "metadata": {},
   "outputs": [
    {
     "data": {
      "text/plain": [
       "True"
      ]
     },
     "execution_count": 43,
     "metadata": {},
     "output_type": "execute_result"
    }
   ],
   "source": [
    "def is_upper(s):\n",
    "    return s.isupper()\n",
    "\n",
    "is_upper(\"LOVE\")"
   ]
  },
  {
   "cell_type": "markdown",
   "id": "6a91c96a-211d-471b-96e7-c8cce69c2816",
   "metadata": {
    "id": "bea983a3"
   },
   "source": [
    "### Exercise 15:\n",
    "Write a Python program that checks if a number is a multiple of 10.\n",
    "\n",
    "```python\n",
    "# Exercise 15\n",
    "```\n",
    "\n",
    "---"
   ]
  },
  {
   "cell_type": "code",
   "execution_count": 45,
   "id": "dcd1390d-f5ee-4994-ac4e-287bcd89c1ab",
   "metadata": {},
   "outputs": [
    {
     "data": {
      "text/plain": [
       "True"
      ]
     },
     "execution_count": 45,
     "metadata": {},
     "output_type": "execute_result"
    }
   ],
   "source": [
    "def is_mul(n):\n",
    "    return n%10 == 0\n",
    "\n",
    "is_mul(30)"
   ]
  },
  {
   "cell_type": "markdown",
   "id": "dd893cdc-a4a2-4e8a-8086-4959363fdbf7",
   "metadata": {
    "id": "bea983a3"
   },
   "source": [
    "### Exercise 16:\n",
    "Write a Python function that checks if a list contains any duplicates.\n",
    "\n",
    "```python\n",
    "# Exercise 16\n",
    "```\n",
    "\n",
    "---"
   ]
  },
  {
   "cell_type": "code",
   "execution_count": 47,
   "id": "2672db96-3b3b-40ba-a895-67ce2c37a748",
   "metadata": {},
   "outputs": [
    {
     "data": {
      "text/plain": [
       "True"
      ]
     },
     "execution_count": 47,
     "metadata": {},
     "output_type": "execute_result"
    }
   ],
   "source": [
    "def dupl(lst):\n",
    "    return len(lst) != len(set(lst))\n",
    "\n",
    "dupl([1,7,7])"
   ]
  },
  {
   "cell_type": "markdown",
   "id": "498625e2-8dad-46cc-ba9f-c50baa346d2c",
   "metadata": {
    "id": "bea983a3"
   },
   "source": [
    "### Exercise 17:\n",
    "Write a Python program that prints \"Teenager\" if the age is between 13 and 19, otherwise it prints \"Not a teenager.\"\n",
    "\n",
    "```python\n",
    "# Exercise 17\n",
    "```\n",
    "\n",
    "---"
   ]
  },
  {
   "cell_type": "code",
   "execution_count": 55,
   "id": "86591f3c-9c7d-401f-9a57-635da2e31818",
   "metadata": {},
   "outputs": [
    {
     "data": {
      "text/plain": [
       "'Not a teenager'"
      ]
     },
     "execution_count": 55,
     "metadata": {},
     "output_type": "execute_result"
    }
   ],
   "source": [
    "def check_age(age):\n",
    "    if 13 <= age <= 19:\n",
    "        return \"Teenager\"\n",
    "\n",
    "    else:\n",
    "        return \"Not a teenager\"\n",
    "\n",
    "check_age(23)\n",
    "    "
   ]
  },
  {
   "cell_type": "markdown",
   "id": "99adce97-bf7d-4aeb-883a-5ef3d00f2317",
   "metadata": {
    "id": "bea983a3"
   },
   "source": [
    "### Exercise 18:\n",
    "Write a Python function that checks if a list contains an element greater than 100.\n",
    "\n",
    "```python\n",
    "# Exercise 18\n",
    "```\n",
    "\n",
    "---"
   ]
  },
  {
   "cell_type": "code",
   "execution_count": 59,
   "id": "afe1e12a-c596-48bc-98f7-b64b4a2abaf5",
   "metadata": {},
   "outputs": [
    {
     "data": {
      "text/plain": [
       "True"
      ]
     },
     "execution_count": 59,
     "metadata": {},
     "output_type": "execute_result"
    }
   ],
   "source": [
    "def con(lst):\n",
    "    return any(x>100 for x in lst)\n",
    "\n",
    "con([103, 89, 5])"
   ]
  },
  {
   "cell_type": "markdown",
   "id": "f93f8b57-302f-4a06-947e-b6a60a9b11f4",
   "metadata": {
    "id": "bea983a3"
   },
   "source": [
    "### Exercise 19:\n",
    "Write a Python program that checks if a number is even or odd.\n",
    "\n",
    "```python\n",
    "# Exercise 19\n",
    "```\n",
    "\n",
    "---"
   ]
  },
  {
   "cell_type": "code",
   "execution_count": 65,
   "id": "47aaac80-98d3-4145-b756-dffc8cf90282",
   "metadata": {},
   "outputs": [
    {
     "data": {
      "text/plain": [
       "'Even number'"
      ]
     },
     "execution_count": 65,
     "metadata": {},
     "output_type": "execute_result"
    }
   ],
   "source": [
    "def even_or_odd(n):\n",
    "        return \"Even number\" if n%2==0 else \"Odd number\"\n",
    "\n",
    "even_or_odd(32)"
   ]
  },
  {
   "cell_type": "markdown",
   "id": "b1a66071-691e-4e8d-bb1e-08e39e677e74",
   "metadata": {
    "id": "bea983a3"
   },
   "source": [
    "### Exercise 20:\n",
    "Write a Python function that checks if a string ends with a punctuation mark.\n",
    "\n",
    "```python\n",
    "# Exercise 20\n",
    "```\n",
    "\n",
    "---"
   ]
  },
  {
   "cell_type": "code",
   "execution_count": 68,
   "id": "a2ed0452-ab60-474d-9e65-46781c96beb6",
   "metadata": {},
   "outputs": [
    {
     "data": {
      "text/plain": [
       "True"
      ]
     },
     "execution_count": 68,
     "metadata": {},
     "output_type": "execute_result"
    }
   ],
   "source": [
    "import string\n",
    "\n",
    "def end_pun(s):\n",
    "    return s[-1] in string.punctuation\n",
    "\n",
    "end_pun(\"AIMS Sénégal.\")"
   ]
  },
  {
   "cell_type": "markdown",
   "id": "f4742ae9-428c-4566-8994-280968d43ed9",
   "metadata": {
    "id": "bea983a3"
   },
   "source": [
    "### Exercise 21:\n",
    "Write a Python program that prints \"Yes\" if the number is between 1 and 100, otherwise it prints \"No.\"\n",
    "\n",
    "```python\n",
    "# Exercise 21\n",
    "```\n",
    "\n",
    "---"
   ]
  },
  {
   "cell_type": "code",
   "execution_count": 70,
   "id": "03f1bbcd-1ec6-4c20-9db2-e2fc2411ef3a",
   "metadata": {},
   "outputs": [
    {
     "data": {
      "text/plain": [
       "'Yes'"
      ]
     },
     "execution_count": 70,
     "metadata": {},
     "output_type": "execute_result"
    }
   ],
   "source": [
    "def is_correct(n):\n",
    "    return \"Yes\" if 1<= n <= 100 else \"No\"\n",
    "\n",
    "is_correct(25)"
   ]
  },
  {
   "cell_type": "markdown",
   "id": "f898f309-cc56-4104-a07c-4dd04b44d899",
   "metadata": {
    "id": "bea983a3"
   },
   "source": [
    "### Exercise 22:\n",
    "Write a Python program that checks if two strings have the same length.\n",
    "\n",
    "```python\n",
    "# Exercise 22\n",
    "```\n",
    "\n",
    "---"
   ]
  },
  {
   "cell_type": "code",
   "execution_count": 72,
   "id": "497a15d4-7c18-4b60-853c-83fa31b0ef48",
   "metadata": {},
   "outputs": [
    {
     "data": {
      "text/plain": [
       "False"
      ]
     },
     "execution_count": 72,
     "metadata": {},
     "output_type": "execute_result"
    }
   ],
   "source": [
    "def same_len(s1, s2):\n",
    "    return len(s1) == len(s2)\n",
    "\n",
    "same_len(\"Hello\", \"Bonjour\")"
   ]
  },
  {
   "cell_type": "markdown",
   "id": "62d88274-a739-4567-b342-4696db6bc93a",
   "metadata": {
    "id": "bea983a3"
   },
   "source": [
    "### Exercise 23:\n",
    "Write a Python function that checks if a number is greater than its reverse.\n",
    "\n",
    "```python\n",
    "# Exercise 23\n",
    "```\n",
    "\n",
    "---"
   ]
  },
  {
   "cell_type": "code",
   "execution_count": 74,
   "id": "8bac10f2-92a2-4a20-8524-d9396829aea4",
   "metadata": {},
   "outputs": [
    {
     "data": {
      "text/plain": [
       "False"
      ]
     },
     "execution_count": 74,
     "metadata": {},
     "output_type": "execute_result"
    }
   ],
   "source": [
    "def check(n):\n",
    "    rev_n = int(str(n)[::-1])\n",
    "    return n > rev_n\n",
    "\n",
    "check(108)"
   ]
  },
  {
   "cell_type": "markdown",
   "id": "31df05c6-2b5b-47dd-b882-ccf94c318593",
   "metadata": {
    "id": "bea983a3"
   },
   "source": [
    "### Exercise 24:\n",
    "Write a Python program that checks if a password contains both letters and numbers.\n",
    "\n",
    "```python\n",
    "# Exercise 24\n",
    "```\n",
    "\n",
    "---"
   ]
  },
  {
   "cell_type": "code",
   "execution_count": 76,
   "id": "e068ffaa-f016-4cd5-98c4-d92c15357fdd",
   "metadata": {},
   "outputs": [
    {
     "data": {
      "text/plain": [
       "True"
      ]
     },
     "execution_count": 76,
     "metadata": {},
     "output_type": "execute_result"
    }
   ],
   "source": [
    "def valid_pass(pwd):\n",
    "    letter = any(c.isalpha() for c in pwd)\n",
    "    digit = any(c.isdigit() for c in pwd)\n",
    "    return letter and digit\n",
    "\n",
    "valid_pass(\"bet12\")"
   ]
  },
  {
   "cell_type": "markdown",
   "id": "19aab6d9-ed65-4f46-93fe-86e2bb58d497",
   "metadata": {
    "id": "bea983a3"
   },
   "source": [
    "### Exercise 25:\n",
    "Write a Python program that checks if a number is between two given numbers.\n",
    "\n",
    "```python\n",
    "# Exercise 25\n",
    "```\n",
    "\n",
    "---"
   ]
  },
  {
   "cell_type": "code",
   "execution_count": 78,
   "id": "d41d23fe-33ba-4bdf-b49a-1ba06c6dd885",
   "metadata": {},
   "outputs": [
    {
     "data": {
      "text/plain": [
       "True"
      ]
     },
     "execution_count": 78,
     "metadata": {},
     "output_type": "execute_result"
    }
   ],
   "source": [
    "def bet(n, low, high):\n",
    "    return low < n < high\n",
    "\n",
    "bet(5, 1, 10)"
   ]
  },
  {
   "cell_type": "markdown",
   "id": "a7498e2f-6f2f-4229-b52d-284ec3f4f1c5",
   "metadata": {
    "id": "bea983a3"
   },
   "source": [
    "### Exercise 26:\n",
    "Write a Python function that checks if all characters in a string are unique.\n",
    "\n",
    "```python\n",
    "# Exercise 26\n",
    "```\n",
    "\n",
    "---"
   ]
  },
  {
   "cell_type": "code",
   "execution_count": 80,
   "id": "055b109f-4fe4-4798-9dc8-1055d032574b",
   "metadata": {},
   "outputs": [
    {
     "data": {
      "text/plain": [
       "True"
      ]
     },
     "execution_count": 80,
     "metadata": {},
     "output_type": "execute_result"
    }
   ],
   "source": [
    "def uni(s):\n",
    "    return len(set(s)) == len(s)\n",
    "\n",
    "uni(\"AIMS\")"
   ]
  },
  {
   "cell_type": "markdown",
   "id": "cbb593a6-9cf5-4020-a5a1-91c2a810e96d",
   "metadata": {
    "id": "bea983a3"
   },
   "source": [
    "### Exercise 27:\n",
    "Write a Python program that checks if a number is a perfect square.\n",
    "\n",
    "```python\n",
    "# Exercise 27\n",
    "```\n",
    "\n",
    "---"
   ]
  },
  {
   "cell_type": "code",
   "execution_count": 82,
   "id": "adeb32c9-85de-4b5c-96d4-256c657c480d",
   "metadata": {},
   "outputs": [
    {
     "data": {
      "text/plain": [
       "True"
      ]
     },
     "execution_count": 82,
     "metadata": {},
     "output_type": "execute_result"
    }
   ],
   "source": [
    "def square(n):\n",
    "    return int(n**0.5)**2 == n\n",
    "\n",
    "square(4)"
   ]
  },
  {
   "cell_type": "markdown",
   "id": "b3ef02a7-2727-458c-9832-15b428e238d3",
   "metadata": {
    "id": "bea983a3"
   },
   "source": [
    "### Exercise 28:\n",
    "Write a Python function that checks if a word is a palindrome.\n",
    "\n",
    "```python\n",
    "# Exercise 28\n",
    "```\n",
    "\n",
    "---"
   ]
  },
  {
   "cell_type": "code",
   "execution_count": 88,
   "id": "d502fee7-6bcb-48c5-8e56-f360efb03c92",
   "metadata": {},
   "outputs": [
    {
     "data": {
      "text/plain": [
       "False"
      ]
     },
     "execution_count": 88,
     "metadata": {},
     "output_type": "execute_result"
    }
   ],
   "source": [
    "def is_palin(n):\n",
    "    return n == n[::-1]\n",
    "\n",
    "is_palin('ablo')"
   ]
  },
  {
   "cell_type": "markdown",
   "id": "bfd1f516-0b25-4b37-9f84-a7559f5cebf0",
   "metadata": {
    "id": "bea983a3"
   },
   "source": [
    "### Exercise 29:\n",
    "Write a Python program that prints \"Fizz\" if a number is divisible by 3, \"Buzz\" if it is divisible by 5, and \"FizzBuzz\" if divisible by both.\n",
    "\n",
    "```python\n",
    "# Exercise 29\n",
    "```\n",
    "\n",
    "---"
   ]
  },
  {
   "cell_type": "code",
   "execution_count": 90,
   "id": "0730272b-4073-4b22-bc3d-eb77d3a9e7e1",
   "metadata": {},
   "outputs": [
    {
     "data": {
      "text/plain": [
       "'Buzz'"
      ]
     },
     "execution_count": 90,
     "metadata": {},
     "output_type": "execute_result"
    }
   ],
   "source": [
    "def fizzbuzz(n):\n",
    "    if n % 3==0 and n%5==0:\n",
    "        return \"FizzBuzz\"\n",
    "\n",
    "    elif n %3==0:\n",
    "        return \"Fizz\"\n",
    "\n",
    "    elif n %5 ==0:\n",
    "        return 'Buzz'\n",
    "\n",
    "    else :\n",
    "        return str(n)\n",
    "\n",
    "\n",
    "fizzbuzz(35)"
   ]
  },
  {
   "cell_type": "markdown",
   "id": "49fbf911-e26b-45c7-8510-6eec5273de38",
   "metadata": {
    "id": "bea983a3"
   },
   "source": [
    "### Exercise 30:\n",
    "Write a Python program that checks if the sum of the digits of a number is even.\n",
    "\n",
    "```python\n",
    "# Exercise 30\n",
    "```\n",
    "\n",
    "---"
   ]
  },
  {
   "cell_type": "code",
   "execution_count": 92,
   "id": "8d7a34d6-e6aa-4c6e-9a6c-f9ef7911e7a4",
   "metadata": {},
   "outputs": [
    {
     "data": {
      "text/plain": [
       "True"
      ]
     },
     "execution_count": 92,
     "metadata": {},
     "output_type": "execute_result"
    }
   ],
   "source": [
    "def correct(n):\n",
    "    total = sum(int(d) for d in str(n))\n",
    "    return total % 2==0\n",
    "\n",
    "correct(40)"
   ]
  },
  {
   "cell_type": "markdown",
   "id": "4971142e-c167-4ea1-8b5a-7878afc366d7",
   "metadata": {
    "id": "bea983a3"
   },
   "source": [
    "### Exercise 31:\n",
    "Write a Python program that checks if a string is a valid email address.\n",
    "\n",
    "```python\n",
    "# Exercise 31\n",
    "```\n",
    "\n",
    "---"
   ]
  },
  {
   "cell_type": "code",
   "execution_count": 94,
   "id": "4a03a4e7-9989-45c8-b09f-79b7844f8233",
   "metadata": {},
   "outputs": [
    {
     "data": {
      "text/plain": [
       "True"
      ]
     },
     "execution_count": 94,
     "metadata": {},
     "output_type": "execute_result"
    }
   ],
   "source": [
    "import re\n",
    "\n",
    "def is_valid(mail):\n",
    "    pat = r'^[\\w\\.-]+@[\\w\\.-]+\\.\\w+$'\n",
    "    return re.match(pat, mail) is not None\n",
    "\n",
    "is_valid('adgo@mail.com')"
   ]
  },
  {
   "cell_type": "markdown",
   "id": "4f959534-dabc-491d-985b-cdd5eac82857",
   "metadata": {
    "id": "bea983a3"
   },
   "source": [
    "### Exercise 32:\n",
    "Write a Python function that checks if a number is within 10 of 100 or 200.\n",
    "\n",
    "```python\n",
    "# Exercise 32\n",
    "```\n",
    "\n",
    "---"
   ]
  },
  {
   "cell_type": "code",
   "execution_count": 96,
   "id": "a74bb37b-d8b4-41ab-9795-c6756c9ced20",
   "metadata": {},
   "outputs": [
    {
     "data": {
      "text/plain": [
       "False"
      ]
     },
     "execution_count": 96,
     "metadata": {},
     "output_type": "execute_result"
    }
   ],
   "source": [
    "def check(n):\n",
    "    return abs(100-n) <= 10 or abs(200-n) <=10\n",
    "\n",
    "check(49)"
   ]
  },
  {
   "cell_type": "markdown",
   "id": "c99f158d-2195-4e18-8a49-0a41b1faccfd",
   "metadata": {
    "id": "bea983a3"
   },
   "source": [
    "### Exercise 33:\n",
    "Write a Python program that checks if a given string is a valid URL.\n",
    "\n",
    "```python\n",
    "# Exercise 33\n",
    "```\n",
    "\n",
    "---"
   ]
  },
  {
   "cell_type": "code",
   "execution_count": 98,
   "id": "692509a1-b908-4d47-b778-85dc613577c9",
   "metadata": {},
   "outputs": [
    {
     "data": {
      "text/plain": [
       "False"
      ]
     },
     "execution_count": 98,
     "metadata": {},
     "output_type": "execute_result"
    }
   ],
   "source": [
    "def check(url):\n",
    "    return url.startswith(\"http://\") or url.startswith(\"https://\")\n",
    "\n",
    "check(\"https:fhfu\")"
   ]
  },
  {
   "cell_type": "markdown",
   "id": "13a88b19-4938-4309-a555-45b89add5a6e",
   "metadata": {
    "id": "bea983a3"
   },
   "source": [
    "### Exercise 34:\n",
    "Write a Python program that checks if a list contains all even numbers.\n",
    "\n",
    "```python\n",
    "# Exercise 34\n",
    "```\n",
    "\n",
    "---"
   ]
  },
  {
   "cell_type": "code",
   "execution_count": 102,
   "id": "f6fae6e0-acb5-4b18-a239-6fc3b2d877b0",
   "metadata": {},
   "outputs": [
    {
     "data": {
      "text/plain": [
       "False"
      ]
     },
     "execution_count": 102,
     "metadata": {},
     "output_type": "execute_result"
    }
   ],
   "source": [
    "def all_even(lst):\n",
    "    return all(x%2 == 0 for x in lst)\n",
    "\n",
    "all_even([1,8,9])\n"
   ]
  },
  {
   "cell_type": "markdown",
   "id": "15aef251-fa4d-4c73-861a-108d060c8f0a",
   "metadata": {
    "id": "bea983a3"
   },
   "source": [
    "### Exercise 35:\n",
    "Write a Python program that checks if a word is longer than a given length.\n",
    "\n",
    "```python\n",
    "# Exercise 35\n",
    "```\n",
    "\n",
    "---"
   ]
  },
  {
   "cell_type": "code",
   "execution_count": 106,
   "id": "b44a33fe-0b13-48b3-9a89-4dca000b0e2f",
   "metadata": {},
   "outputs": [
    {
     "data": {
      "text/plain": [
       "True"
      ]
     },
     "execution_count": 106,
     "metadata": {},
     "output_type": "execute_result"
    }
   ],
   "source": [
    "def check(wd, leng):\n",
    "    return len(wd) > leng\n",
    "\n",
    "check(\"orange\", 4)"
   ]
  },
  {
   "cell_type": "markdown",
   "id": "e0fa61c9-0d0f-40ff-8211-61c01b2b24ae",
   "metadata": {
    "id": "bea983a3"
   },
   "source": [
    "### Exercise 36:\n",
    "Write a Python program that checks if a list contains only positive numbers.\n",
    "\n",
    "```python\n",
    "# Exercise 36\n",
    "```\n",
    "\n",
    "---"
   ]
  },
  {
   "cell_type": "code",
   "execution_count": 110,
   "id": "e2ecde81-86df-4a96-a4ce-f7bee87a68ee",
   "metadata": {},
   "outputs": [
    {
     "data": {
      "text/plain": [
       "False"
      ]
     },
     "execution_count": 110,
     "metadata": {},
     "output_type": "execute_result"
    }
   ],
   "source": [
    "def all_posi(lst):\n",
    "    return all(x>0 for x in lst)\n",
    "\n",
    "all_posi([-69,14,5])"
   ]
  },
  {
   "cell_type": "markdown",
   "id": "8a40ec71-f70f-4c7d-9f9c-1652402c15a8",
   "metadata": {
    "id": "bea983a3"
   },
   "source": [
    "### Exercise 37:\n",
    "Write a Python function that checks if a year is a century year (i.e., divisible by 100).\n",
    "\n",
    "```python\n",
    "# Exercise 37\n",
    "```\n",
    "\n",
    "---"
   ]
  },
  {
   "cell_type": "code",
   "execution_count": 112,
   "id": "48f4ee3c-d4dc-4bf6-8a6c-b1398a270c7c",
   "metadata": {},
   "outputs": [
    {
     "data": {
      "text/plain": [
       "False"
      ]
     },
     "execution_count": 112,
     "metadata": {},
     "output_type": "execute_result"
    }
   ],
   "source": [
    "def check(yr):\n",
    "    return yr % 100 ==0\n",
    "\n",
    "check(2004)"
   ]
  },
  {
   "cell_type": "markdown",
   "id": "c7b69f5f-eab5-410a-9763-2841e4174297",
   "metadata": {
    "id": "bea983a3"
   },
   "source": [
    "### Exercise 38:\n",
    "Write a Python program that checks if the sum of a list of numbers is greater than 100.\n",
    "\n",
    "```python\n",
    "# Exercise 38\n",
    "```\n",
    "\n",
    "---"
   ]
  },
  {
   "cell_type": "code",
   "execution_count": 114,
   "id": "3aeb71f8-a1e1-4882-8bba-dfe1b12c6849",
   "metadata": {},
   "outputs": [
    {
     "data": {
      "text/plain": [
       "True"
      ]
     },
     "execution_count": 114,
     "metadata": {},
     "output_type": "execute_result"
    }
   ],
   "source": [
    "def check(lst):\n",
    "    return sum(lst) > 100\n",
    "\n",
    "check([50,50,7])"
   ]
  },
  {
   "cell_type": "markdown",
   "id": "1087bae0-8250-487f-80cd-20c3f047c6a4",
   "metadata": {
    "id": "bea983a3"
   },
   "source": [
    "### Exercise 39:\n",
    "Write a Python function that checks if a given word is a substring of another string.\n",
    "\n",
    "```python\n",
    "# Exercise 39\n",
    "```\n",
    "\n",
    "---"
   ]
  },
  {
   "cell_type": "code",
   "execution_count": 116,
   "id": "9f0a3837-4313-43cf-bde8-feb02840e880",
   "metadata": {},
   "outputs": [
    {
     "data": {
      "text/plain": [
       "True"
      ]
     },
     "execution_count": 116,
     "metadata": {},
     "output_type": "execute_result"
    }
   ],
   "source": [
    "def check(wd, tx):\n",
    "    return wd in tx\n",
    "\n",
    "check(\"all\", \"all of you\")"
   ]
  },
  {
   "cell_type": "markdown",
   "id": "dce039a2-16bd-4c17-884e-a4aadc90b63b",
   "metadata": {
    "id": "bea983a3"
   },
   "source": [
    "### Exercise 40:\n",
    "Write a Python program that checks if a number is a power of 2.\n",
    "\n",
    "```python\n",
    "# Exercise 40\n",
    "```\n",
    "\n",
    "---"
   ]
  },
  {
   "cell_type": "code",
   "execution_count": 118,
   "id": "9d0c1508-fca0-4215-973e-6338497e99a6",
   "metadata": {},
   "outputs": [
    {
     "data": {
      "text/plain": [
       "True"
      ]
     },
     "execution_count": 118,
     "metadata": {},
     "output_type": "execute_result"
    }
   ],
   "source": [
    "def power(n):\n",
    "    return n >0 and (n & (n-1)) == 0\n",
    "\n",
    "power(64)"
   ]
  },
  {
   "cell_type": "markdown",
   "id": "832de011-b249-4ebf-89a9-c02dcd51dba4",
   "metadata": {
    "id": "bea983a3"
   },
   "source": [
    "### Exercise 41:\n",
    "Write a Python function that checks if a string contains no spaces.\n",
    "\n",
    "```python\n",
    "# Exercise 41\n",
    "```\n",
    "\n",
    "---"
   ]
  },
  {
   "cell_type": "code",
   "execution_count": 121,
   "id": "0549e210-41ca-4fb3-a26b-50e5d945098b",
   "metadata": {},
   "outputs": [
    {
     "data": {
      "text/plain": [
       "False"
      ]
     },
     "execution_count": 121,
     "metadata": {},
     "output_type": "execute_result"
    }
   ],
   "source": [
    "def no_space(s):\n",
    "    return ' ' not in s\n",
    "\n",
    "no_space(\"Alppes   sou\")"
   ]
  },
  {
   "cell_type": "markdown",
   "id": "02ee0967-afab-4bc5-ac38-09505d73032a",
   "metadata": {
    "id": "bea983a3"
   },
   "source": [
    "### Exercise 42:\n",
    "Write a Python program that prints \"Yes\" if a number is divisible by both 2 and 3, otherwise it prints \"No.\"\n",
    "\n",
    "```python\n",
    "# Exercise 42\n",
    "```\n",
    "\n",
    "---"
   ]
  },
  {
   "cell_type": "code",
   "execution_count": 123,
   "id": "dd464e11-c425-474f-837d-34049019d93d",
   "metadata": {},
   "outputs": [
    {
     "data": {
      "text/plain": [
       "'No'"
      ]
     },
     "execution_count": 123,
     "metadata": {},
     "output_type": "execute_result"
    }
   ],
   "source": [
    "def check(n):\n",
    "    return \"Yes\" if n%2 == 0 and n %3==0 else \"No\"\n",
    "\n",
    "check(34)"
   ]
  },
  {
   "cell_type": "markdown",
   "id": "9899ba88-971c-4848-ad3b-597db76bf42f",
   "metadata": {
    "id": "bea983a3"
   },
   "source": [
    "### Exercise 43:\n",
    "Write a Python program that checks if a number is a palindrome.\n",
    "\n",
    "```python\n",
    "# Exercise 43\n",
    "```\n",
    "\n",
    "---"
   ]
  },
  {
   "cell_type": "code",
   "execution_count": 125,
   "id": "ccccb837-2193-4225-80af-8b047468a74c",
   "metadata": {},
   "outputs": [
    {
     "data": {
      "text/plain": [
       "False"
      ]
     },
     "execution_count": 125,
     "metadata": {},
     "output_type": "execute_result"
    }
   ],
   "source": [
    "def is_palin(n):\n",
    "    return str(n) == str(n)[::-1]\n",
    "\n",
    "is_palin('Mouff')"
   ]
  },
  {
   "cell_type": "markdown",
   "id": "04e9b1f8-a68a-4aa4-acdf-7e3a02cd7315",
   "metadata": {
    "id": "bea983a3"
   },
   "source": [
    "### Exercise 44:\n",
    "Write a Python function that checks if a string is made of only lowercase letters.\n",
    "\n",
    "```python\n",
    "# Exercise 44\n",
    "```\n",
    "\n",
    "---"
   ]
  },
  {
   "cell_type": "code",
   "execution_count": 127,
   "id": "bff4a60d-1a78-403e-be17-ad4e677eeee4",
   "metadata": {},
   "outputs": [
    {
     "data": {
      "text/plain": [
       "True"
      ]
     },
     "execution_count": 127,
     "metadata": {},
     "output_type": "execute_result"
    }
   ],
   "source": [
    "def check(s):\n",
    "    return s.islower()\n",
    "\n",
    "check(\"kikeke\")"
   ]
  },
  {
   "cell_type": "markdown",
   "id": "ac25a9bc-705a-457d-822f-27560426a028",
   "metadata": {
    "id": "bea983a3"
   },
   "source": [
    "### Exercise 45:\n",
    "Write a Python program that checks if a string starts with a specific prefix.\n",
    "\n",
    "```python\n",
    "# Exercise 45\n",
    "```\n",
    "\n",
    "---"
   ]
  },
  {
   "cell_type": "code",
   "execution_count": 131,
   "id": "dc2f50de-cefe-4fc8-a95f-86e1a8c4aa1c",
   "metadata": {},
   "outputs": [
    {
     "data": {
      "text/plain": [
       "False"
      ]
     },
     "execution_count": 131,
     "metadata": {},
     "output_type": "execute_result"
    }
   ],
   "source": [
    "def startin(s, pre):\n",
    "    return s.startswith(pre)\n",
    "\n",
    "startin(\"Jardin\", \"jj\")"
   ]
  },
  {
   "cell_type": "markdown",
   "id": "9f3bb88d-5bdf-49ee-9226-2edc16ee5d27",
   "metadata": {
    "id": "bea983a3"
   },
   "source": [
    "### Exercise 46:\n",
    "Write a Python function that checks if a number is divisible by any number in a given list.\n",
    "\n",
    "```python\n",
    "# Exercise 46\n",
    "```\n",
    "\n",
    "---"
   ]
  },
  {
   "cell_type": "code",
   "execution_count": 133,
   "id": "856641db-bbe1-4b7d-b836-adaeae17e904",
   "metadata": {},
   "outputs": [
    {
     "data": {
      "text/plain": [
       "True"
      ]
     },
     "execution_count": 133,
     "metadata": {},
     "output_type": "execute_result"
    }
   ],
   "source": [
    "def check(n,lst):\n",
    "    return any(n % x == 0 for x in lst if x !=0)\n",
    "\n",
    "check(24, [1,2,9])"
   ]
  },
  {
   "cell_type": "markdown",
   "id": "0cd4e52e-d57f-467b-baa9-6aae2994c056",
   "metadata": {
    "id": "bea983a3"
   },
   "source": [
    "### Exercise 47:\n",
    "Write a Python program that prints \"Yes\" if a string has more than one occurrence of the same letter.\n",
    "\n",
    "```python\n",
    "# Exercise 47\n",
    "```\n",
    "\n",
    "---"
   ]
  },
  {
   "cell_type": "code",
   "execution_count": 135,
   "id": "b1e49004-eda1-4299-b050-91aeeb0f88a8",
   "metadata": {},
   "outputs": [
    {
     "data": {
      "text/plain": [
       "'Yes'"
      ]
     },
     "execution_count": 135,
     "metadata": {},
     "output_type": "execute_result"
    }
   ],
   "source": [
    "def affi(s):\n",
    "    for c in set(s):\n",
    "        if s.count(c) > 1:\n",
    "            return \"Yes\"\n",
    "\n",
    "    return \"No\"\n",
    "\n",
    "affi(\"Ayimolou\")"
   ]
  },
  {
   "cell_type": "markdown",
   "id": "026fce71-66c6-4510-a247-792ea93e8b2f",
   "metadata": {
    "id": "bea983a3"
   },
   "source": [
    "### Exercise 48:\n",
    "Write a Python function that checks if a number is prime by dividing it by numbers up to its square root.\n",
    "\n",
    "```python\n",
    "# Exercise 48\n",
    "```\n",
    "\n",
    "---"
   ]
  },
  {
   "cell_type": "code",
   "execution_count": 137,
   "id": "74066381-3826-45f1-a6dd-23d9e9082519",
   "metadata": {},
   "outputs": [
    {
     "data": {
      "text/plain": [
       "False"
      ]
     },
     "execution_count": 137,
     "metadata": {},
     "output_type": "execute_result"
    }
   ],
   "source": [
    "def if_prime(n):\n",
    "    if n < 2:\n",
    "        return False\n",
    "    for i in range(2, int(n**0.5) + 1):\n",
    "        if n % i ==0:\n",
    "            return False\n",
    "\n",
    "    return True\n",
    "\n",
    "if_prime(16)"
   ]
  },
  {
   "cell_type": "markdown",
   "id": "465bc9f2-7293-442b-9dff-6eaa4306899a",
   "metadata": {
    "id": "bea983a3"
   },
   "source": [
    "### Exercise 49:\n",
    "Write a Python program that checks if a number is within 1 of a multiple of 10.\n",
    "\n",
    "```python\n",
    "# Exercise 49\n",
    "```\n",
    "\n",
    "---"
   ]
  },
  {
   "cell_type": "code",
   "execution_count": 139,
   "id": "6528c95c-e3d7-42cb-b744-5b53d9618d41",
   "metadata": {},
   "outputs": [
    {
     "data": {
      "text/plain": [
       "False"
      ]
     },
     "execution_count": 139,
     "metadata": {},
     "output_type": "execute_result"
    }
   ],
   "source": [
    "def check(n):\n",
    "    return n%10 == 1 or n%10 == 9\n",
    "\n",
    "check(10)"
   ]
  },
  {
   "cell_type": "markdown",
   "id": "986ae34b-c0a8-4c81-a84b-8ed1b7a04db0",
   "metadata": {
    "id": "bea983a3"
   },
   "source": [
    "### Exercise 50:\n",
    "Write a Python program that prints \"In range\" if a number is between 10 and 20 (inclusive), otherwise it prints \"Out of range.\"\n",
    "\n",
    "```python\n",
    "# Exercise 50\n",
    "```\n",
    "\n",
    "---"
   ]
  },
  {
   "cell_type": "code",
   "execution_count": 141,
   "id": "30124e46-3bdd-4529-a1f4-4572576df15a",
   "metadata": {},
   "outputs": [
    {
     "data": {
      "text/plain": [
       "'In range'"
      ]
     },
     "execution_count": 141,
     "metadata": {},
     "output_type": "execute_result"
    }
   ],
   "source": [
    "def in_range(n):\n",
    "    return \"In range\" if 10 <= n <= 20 else \"Out of range\"\n",
    "\n",
    "in_range(15)"
   ]
  }
 ],
 "metadata": {
  "colab": {
   "provenance": []
  },
  "kernelspec": {
   "display_name": "Python 3 (ipykernel)",
   "language": "python",
   "name": "python3"
  },
  "language_info": {
   "codemirror_mode": {
    "name": "ipython",
    "version": 3
   },
   "file_extension": ".py",
   "mimetype": "text/x-python",
   "name": "python",
   "nbconvert_exporter": "python",
   "pygments_lexer": "ipython3",
   "version": "3.12.4"
  }
 },
 "nbformat": 4,
 "nbformat_minor": 5
}

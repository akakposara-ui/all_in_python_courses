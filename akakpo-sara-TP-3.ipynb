{
 "cells": [
  {
   "cell_type": "markdown",
   "id": "d68c1dee",
   "metadata": {
    "id": "d68c1dee"
   },
   "source": [
    "# Practical_3: Iterable objects or Containers"
   ]
  },
  {
   "cell_type": "code",
   "execution_count": null,
   "id": "c094e6bf-59c8-4efb-a2af-06d00dfcc230",
   "metadata": {},
   "outputs": [],
   "source": []
  },
  {
   "cell_type": "markdown",
   "id": "da71b1e3-de76-4f95-ada9-518e30c6c64a",
   "metadata": {
    "id": "bea983a3"
   },
   "source": [
    "---\n",
    "\n",
    "### Exercise 1:\n",
    "Create a list of integers from 1 to 10.\n",
    "\n",
    "```python\n",
    "# Exercise 1\n",
    "```\n",
    "\n",
    "---"
   ]
  },
  {
   "cell_type": "code",
   "execution_count": 1,
   "id": "326a96c9-b023-4c1b-b2b4-1eb43748993d",
   "metadata": {},
   "outputs": [
    {
     "name": "stdout",
     "output_type": "stream",
     "text": [
      "[1, 2, 3, 4, 5, 6, 7, 8, 9, 10]\n"
     ]
    }
   ],
   "source": [
    "list_int = [1,2,3,4,5,6,7,8,9,10]\n",
    "\n",
    "print(list_int)"
   ]
  },
  {
   "cell_type": "markdown",
   "id": "4d3118f0-0d32-4612-90b6-74d20198862b",
   "metadata": {
    "id": "bea983a3"
   },
   "source": [
    "### Exercise 2:\n",
    "Create a tuple containing the elements `\"apple\"`, `\"banana\"`, and `\"cherry\"`.\n",
    "\n",
    "```python\n",
    "# Exercise 2\n",
    "```\n",
    "\n",
    "---"
   ]
  },
  {
   "cell_type": "code",
   "execution_count": 1,
   "id": "b42460d0-5a3b-4b31-a7cf-434e3932b708",
   "metadata": {},
   "outputs": [
    {
     "data": {
      "text/plain": [
       "('apple', 'banana', 'cherry')"
      ]
     },
     "execution_count": 1,
     "metadata": {},
     "output_type": "execute_result"
    }
   ],
   "source": [
    "fruits = (\"apple\", \"banana\", \"cherry\")\n",
    "\n",
    "fruits"
   ]
  },
  {
   "cell_type": "markdown",
   "id": "1eb69aa4-71c0-4702-bfbd-aa6480cc6cbe",
   "metadata": {
    "id": "bea983a3"
   },
   "source": [
    "### Exercise 3:\n",
    "Convert the list `numbers = [10, 20, 30, 40]` into a tuple.\n",
    "\n",
    "```python\n",
    "# Exercise 3\n",
    "```\n",
    "\n",
    "---"
   ]
  },
  {
   "cell_type": "code",
   "execution_count": 5,
   "id": "826a7e7f-63d6-44b5-9085-0ef93d35846a",
   "metadata": {},
   "outputs": [
    {
     "name": "stdout",
     "output_type": "stream",
     "text": [
      "<class 'tuple'>\n"
     ]
    }
   ],
   "source": [
    "numbers = [10,20,30,40]\n",
    "\n",
    "x = tuple(numbers)\n",
    "\n",
    "print(type(x))"
   ]
  },
  {
   "cell_type": "markdown",
   "id": "f8ff1bb1-7cd7-4b43-b6c8-be8784f21a2a",
   "metadata": {
    "id": "bea983a3"
   },
   "source": [
    "### Exercise 4:\n",
    "Create a set containing the elements `1, 2, 3, 4, 5`.\n",
    "\n",
    "```python\n",
    "# Exercise 4\n",
    "```\n",
    "\n",
    "---"
   ]
  },
  {
   "cell_type": "code",
   "execution_count": 7,
   "id": "c0c61fd6-55d3-4d0f-a49e-6a30cb8c2549",
   "metadata": {},
   "outputs": [
    {
     "name": "stdout",
     "output_type": "stream",
     "text": [
      "<class 'set'>\n"
     ]
    }
   ],
   "source": [
    "elts = {1,2,3,4,5}\n",
    "\n",
    "print(type(elts))"
   ]
  },
  {
   "cell_type": "markdown",
   "id": "86e60e8b-e71e-4c16-b512-046218bb474e",
   "metadata": {
    "id": "bea983a3"
   },
   "source": [
    "### Exercise 5:\n",
    "Create a dictionary `student` with the keys `\"name\"`, `\"age\"`, and `\"grade\"` and corresponding values `\"Alice\"`, `20`, and `\"A\"`.\n",
    "\n",
    "```python\n",
    "# Exercise 5\n",
    "```\n",
    "\n",
    "---"
   ]
  },
  {
   "cell_type": "code",
   "execution_count": 9,
   "id": "6f289385-648f-41eb-a1ba-005e33ffc6a8",
   "metadata": {},
   "outputs": [
    {
     "data": {
      "text/plain": [
       "{'name': 'Alice', 'age': 20, 'grade': 'A'}"
      ]
     },
     "execution_count": 9,
     "metadata": {},
     "output_type": "execute_result"
    }
   ],
   "source": [
    "student = {\n",
    "    'name': \"Alice\",\n",
    "    'age': 20,\n",
    "    'grade': \"A\"\n",
    "    \n",
    "}\n",
    "\n",
    "student"
   ]
  },
  {
   "cell_type": "markdown",
   "id": "ce4c8e85-74f9-4ab2-b60f-fc4999709273",
   "metadata": {
    "id": "bea983a3"
   },
   "source": [
    "### Exercise 6:\n",
    "Access the second element of the list `[10, 20, 30, 40, 50]` using indexing.\n",
    "\n",
    "```python\n",
    "# Exercise 6\n",
    "```\n",
    "\n",
    "---"
   ]
  },
  {
   "cell_type": "code",
   "execution_count": 11,
   "id": "c1aeeb92-5d5f-4672-8daf-627cc38dec3a",
   "metadata": {},
   "outputs": [
    {
     "data": {
      "text/plain": [
       "20"
      ]
     },
     "execution_count": 11,
     "metadata": {},
     "output_type": "execute_result"
    }
   ],
   "source": [
    "num = [10,20,30,40,50]\n",
    "\n",
    "num[1]"
   ]
  },
  {
   "cell_type": "markdown",
   "id": "f1b13537-9f39-4ced-827f-144973e04e67",
   "metadata": {
    "id": "bea983a3"
   },
   "source": [
    "### Exercise 7:\n",
    "Change the third element of the list `fruits = [\"apple\", \"banana\", \"cherry\", \"orange\"]` to `\"mango\"`.\n",
    "\n",
    "```python\n",
    "# Exercise 7\n",
    "```\n",
    "\n",
    "---"
   ]
  },
  {
   "cell_type": "code",
   "execution_count": 13,
   "id": "a8b9e468-59b5-44d2-a69c-a11e3e1049da",
   "metadata": {},
   "outputs": [
    {
     "data": {
      "text/plain": [
       "['apple', 'banana', 'mango', 'orange']"
      ]
     },
     "execution_count": 13,
     "metadata": {},
     "output_type": "execute_result"
    }
   ],
   "source": [
    "fruits = [\"apple\", \"banana\", \"cherry\", \"orange\"]\n",
    "\n",
    "fruits[2] = \"mango\"\n",
    "\n",
    "fruits"
   ]
  },
  {
   "cell_type": "markdown",
   "id": "06a5428a-1136-4879-8d9a-48e8f3a46923",
   "metadata": {
    "id": "bea983a3"
   },
   "source": [
    "### Exercise 8:\n",
    "Add the number `6` to the set `numbers = {1, 2, 3, 4, 5}`.\n",
    "\n",
    "```python\n",
    "# Exercise 8\n",
    "```\n",
    "\n",
    "---"
   ]
  },
  {
   "cell_type": "code",
   "execution_count": 15,
   "id": "02036b92-be59-4302-b5b8-e515e0001ec8",
   "metadata": {},
   "outputs": [
    {
     "data": {
      "text/plain": [
       "{1, 2, 3, 4, 5, 6}"
      ]
     },
     "execution_count": 15,
     "metadata": {},
     "output_type": "execute_result"
    }
   ],
   "source": [
    "numbers = {1, 2, 3, 4, 5}\n",
    "\n",
    "numbers.add(6)\n",
    "\n",
    "numbers"
   ]
  },
  {
   "cell_type": "markdown",
   "id": "82688fe8-7c41-4889-97f5-a02f18ece825",
   "metadata": {
    "id": "bea983a3"
   },
   "source": [
    "### Exercise 9:\n",
    "Remove the key `\"age\"` from the dictionary `person = {\"name\": \"John\", \"age\": 25, \"city\": \"New York\"}`.\n",
    "\n",
    "```python\n",
    "# Exercise 9\n",
    "```\n",
    "\n",
    "---"
   ]
  },
  {
   "cell_type": "code",
   "execution_count": 19,
   "id": "441b78f2-6a11-4b54-bc8d-6d7e3ea8a563",
   "metadata": {},
   "outputs": [
    {
     "data": {
      "text/plain": [
       "{'name': 'John', 'city': 'New York'}"
      ]
     },
     "execution_count": 19,
     "metadata": {},
     "output_type": "execute_result"
    }
   ],
   "source": [
    "person = {\"name\": \"John\", \n",
    "          \"age\": 25, \n",
    "          \"city\": \"New York\"\n",
    "}\n",
    "\n",
    "person.pop('age')\n",
    "\n",
    "person"
   ]
  },
  {
   "cell_type": "markdown",
   "id": "83eabf29-0089-43b4-b650-17e3092f240e",
   "metadata": {
    "id": "bea983a3"
   },
   "source": [
    "### Exercise 10:\n",
    "Create a range object starting from 0 to 9.\n",
    "\n",
    "```python\n",
    "# Exercise 10\n",
    "```\n",
    "\n",
    "---"
   ]
  },
  {
   "cell_type": "code",
   "execution_count": 21,
   "id": "150a294e-3d45-4f82-a98f-482fba3f97f9",
   "metadata": {},
   "outputs": [
    {
     "name": "stdout",
     "output_type": "stream",
     "text": [
      "0\n",
      "1\n",
      "2\n",
      "3\n",
      "4\n",
      "5\n",
      "6\n",
      "7\n",
      "8\n",
      "9\n"
     ]
    }
   ],
   "source": [
    "for i in range(0,10):\n",
    "    print(i)"
   ]
  },
  {
   "cell_type": "markdown",
   "id": "a837db02-7ab6-4fb0-9077-0b590bc4c2c2",
   "metadata": {
    "id": "bea983a3"
   },
   "source": [
    "### Exercise 11:\n",
    "Use a list comprehension to create a list of squares of numbers from 1 to 10.\n",
    "\n",
    "```python\n",
    "# Exercise 11\n",
    "```\n",
    "\n",
    "---"
   ]
  },
  {
   "cell_type": "code",
   "execution_count": 24,
   "id": "8c2b8516-0fc1-4d7b-8986-d78ffb3b1366",
   "metadata": {},
   "outputs": [
    {
     "data": {
      "text/plain": [
       "[1, 4, 9, 16, 25, 36, 49, 64, 81, 100]"
      ]
     },
     "execution_count": 24,
     "metadata": {},
     "output_type": "execute_result"
    }
   ],
   "source": [
    "list = [x**2 for x in range(1,11) ]\n",
    "\n",
    "list  "
   ]
  },
  {
   "cell_type": "markdown",
   "id": "287da028-0381-41a3-9413-2a18fc58a052",
   "metadata": {
    "id": "bea983a3"
   },
   "source": [
    "### Exercise 12:\n",
    "Create a tuple of even numbers between 2 and 10 using a tuple comprehension.\n",
    "\n",
    "```python\n",
    "# Exercise 12\n",
    "```\n",
    "\n",
    "---"
   ]
  },
  {
   "cell_type": "code",
   "execution_count": 1,
   "id": "2b757b21-1d72-4fc3-9e9b-2fa5d3018b85",
   "metadata": {},
   "outputs": [
    {
     "name": "stdout",
     "output_type": "stream",
     "text": [
      "(2, 4, 6, 8, 10)\n"
     ]
    }
   ],
   "source": [
    "even = tuple(x for x in range(2,11) if x%2 == 0)\n",
    "\n",
    "print(even)"
   ]
  },
  {
   "cell_type": "markdown",
   "id": "46a96691-5df3-4683-b909-7ef644e64b9e",
   "metadata": {
    "id": "bea983a3"
   },
   "source": [
    "### Exercise 13:\n",
    "Use a for loop to iterate through the list `fruits = [\"apple\", \"banana\", \"cherry\"]` and print each element.\n",
    "\n",
    "```python\n",
    "# Exercise 13\n",
    "```\n",
    "\n",
    "---"
   ]
  },
  {
   "cell_type": "code",
   "execution_count": 3,
   "id": "18b53bff-af15-478f-a99b-af4a32ac0ed0",
   "metadata": {},
   "outputs": [
    {
     "name": "stdout",
     "output_type": "stream",
     "text": [
      "apple\n",
      "banana\n",
      "cherry\n"
     ]
    }
   ],
   "source": [
    "fruits = [\"apple\", \"banana\", \"cherry\"]\n",
    "\n",
    "for i in fruits:\n",
    "    print(i)"
   ]
  },
  {
   "cell_type": "markdown",
   "id": "4e4b08fe-336a-4cc4-b567-1e9f30b267b9",
   "metadata": {
    "id": "bea983a3"
   },
   "source": [
    "### Exercise 14:\n",
    "Check if the value `3` exists in the set `numbers = {1, 2, 3, 4, 5}`.\n",
    "\n",
    "```python\n",
    "# Exercise 14\n",
    "```\n",
    "\n",
    "---"
   ]
  },
  {
   "cell_type": "code",
   "execution_count": 11,
   "id": "ab376086-936e-4e14-ae44-ee549fb74365",
   "metadata": {},
   "outputs": [
    {
     "name": "stdout",
     "output_type": "stream",
     "text": [
      "The number exists\n"
     ]
    }
   ],
   "source": [
    "numbers = {1, 2, 3, 4, 5}\n",
    "\n",
    "if 3 in numbers:\n",
    "    print(\"The number exists\")         \n",
    "else:\n",
    "    print(\"Number not in set\")\n",
    "          "
   ]
  },
  {
   "cell_type": "markdown",
   "id": "8488b917-0a09-45ea-8bd4-d453d434bead",
   "metadata": {
    "id": "bea983a3"
   },
   "source": [
    "### Exercise 15:\n",
    "Use the `len()` function to find the length of the tuple `numbers = (10, 20, 30)`.\n",
    "\n",
    "```python\n",
    "# Exercise 15\n",
    "```\n",
    "\n",
    "---"
   ]
  },
  {
   "cell_type": "code",
   "execution_count": 13,
   "id": "6cc421cc-27ca-47ea-a811-73db1d81a1c1",
   "metadata": {},
   "outputs": [
    {
     "name": "stdout",
     "output_type": "stream",
     "text": [
      "3\n"
     ]
    }
   ],
   "source": [
    "numbers = (10, 20, 30)\n",
    "\n",
    "print(len(numbers))"
   ]
  },
  {
   "cell_type": "markdown",
   "id": "98ca0162-9422-4023-9efc-d5d56a245843",
   "metadata": {
    "id": "bea983a3"
   },
   "source": [
    "### Exercise 16:\n",
    "Add the value `100` at the end of the list `scores = [80, 85, 90, 95]`.\n",
    "\n",
    "```python\n",
    "# Exercise 16\n",
    "```\n",
    "\n",
    "---"
   ]
  },
  {
   "cell_type": "code",
   "execution_count": 19,
   "id": "13eb5c63-7817-4cd7-8c16-bbab261c067c",
   "metadata": {},
   "outputs": [
    {
     "data": {
      "text/plain": [
       "[80, 85, 90, 95, 100]"
      ]
     },
     "execution_count": 19,
     "metadata": {},
     "output_type": "execute_result"
    }
   ],
   "source": [
    "scores = [80, 85, 90, 95]\n",
    "\n",
    "scores.append(100)\n",
    "\n",
    "scores"
   ]
  },
  {
   "cell_type": "markdown",
   "id": "c89c49f0-1265-4cb4-b2a5-8508ee5faaa0",
   "metadata": {
    "id": "bea983a3"
   },
   "source": [
    "### Exercise 17:\n",
    "Write a function that takes a list as input and returns the sum of all elements in the list.\n",
    "\n",
    "```python\n",
    "# Exercise 17\n",
    "```\n",
    "\n",
    "---"
   ]
  },
  {
   "cell_type": "code",
   "execution_count": 21,
   "id": "b03732d8-1175-4596-b83d-b7d767814cf2",
   "metadata": {},
   "outputs": [
    {
     "name": "stdout",
     "output_type": "stream",
     "text": [
      "492\n"
     ]
    }
   ],
   "source": [
    "def sum_list(list_enter):\n",
    "    return sum(list_enter)\n",
    "\n",
    "\n",
    "num = [10,15,154,18,36,25,47,187]\n",
    "\n",
    "print(sum_list(num))\n"
   ]
  },
  {
   "cell_type": "markdown",
   "id": "55ffc4a7-8a11-4d21-869d-8caa24b2753e",
   "metadata": {
    "id": "bea983a3"
   },
   "source": [
    "### Exercise 18:\n",
    "Create a set containing the unique elements of the list `numbers = [1, 2, 2, 3, 4, 4, 5]`.\n",
    "\n",
    "```python\n",
    "# Exercise 18\n",
    "```\n",
    "\n",
    "---"
   ]
  },
  {
   "cell_type": "code",
   "execution_count": 23,
   "id": "547e4304-7be6-48df-a484-1166f8e1739b",
   "metadata": {},
   "outputs": [
    {
     "name": "stdout",
     "output_type": "stream",
     "text": [
      "<class 'set'>\n"
     ]
    }
   ],
   "source": [
    "numbers = [1, 2, 2, 3, 4, 4, 5]\n",
    "\n",
    "set_num = set(numbers)\n",
    "\n",
    "print(type(set_num))"
   ]
  },
  {
   "cell_type": "markdown",
   "id": "f7c8a050-782e-48f6-ab68-8809a74fc81c",
   "metadata": {
    "id": "bea983a3"
   },
   "source": [
    "### Exercise 19:\n",
    "Convert the string `\"hello\"` into a list of characters.\n",
    "\n",
    "```python\n",
    "# Exercise 19\n",
    "```\n",
    "\n",
    "---"
   ]
  },
  {
   "cell_type": "code",
   "execution_count": 25,
   "id": "e14061cb-36a3-4526-b665-75057778553c",
   "metadata": {},
   "outputs": [
    {
     "name": "stdout",
     "output_type": "stream",
     "text": [
      "['h', 'e', 'l', 'l', 'o']\n"
     ]
    }
   ],
   "source": [
    "char = \"hello\"\n",
    "\n",
    "char_list = list(char)\n",
    "\n",
    "print(char_list)"
   ]
  },
  {
   "cell_type": "markdown",
   "id": "e692cb76-846a-4ade-8c92-3b6a4d4268a4",
   "metadata": {
    "id": "bea983a3"
   },
   "source": [
    "### Exercise 20:\n",
    "Write a Python function that reverses a tuple `(1, 2, 3, 4)`.\n",
    "\n",
    "```python\n",
    "# Exercise 20\n",
    "```\n",
    "\n",
    "---"
   ]
  },
  {
   "cell_type": "code",
   "execution_count": 29,
   "id": "1e5ba395-5892-4790-9c98-f4a9eb20b8b9",
   "metadata": {},
   "outputs": [
    {
     "name": "stdout",
     "output_type": "stream",
     "text": [
      "(4, 3, 2, 1)\n"
     ]
    }
   ],
   "source": [
    "def reverse_tuple(tple):\n",
    "    return tple[::-1]\n",
    "\n",
    "num = (1, 2, 3, 4)\n",
    "\n",
    "print(reverse_tuple(num))"
   ]
  },
  {
   "cell_type": "markdown",
   "id": "f764d7ea-b3db-460f-8531-fe46c52159f6",
   "metadata": {
    "id": "bea983a3"
   },
   "source": [
    "### Exercise 21:\n",
    "Merge two dictionaries `dict1 = {\"a\": 1, \"b\": 2}` and `dict2 = {\"c\": 3, \"d\": 4}` into a single dictionary.\n",
    "\n",
    "```python\n",
    "# Exercise 21\n",
    "```\n",
    "\n",
    "---"
   ]
  },
  {
   "cell_type": "code",
   "execution_count": 33,
   "id": "3803b885-12e4-4dc6-8bb1-c2d3ab0048e4",
   "metadata": {},
   "outputs": [
    {
     "name": "stdout",
     "output_type": "stream",
     "text": [
      "{'a': 1, 'b': 2, 'c': 3, 'd': 4}\n"
     ]
    }
   ],
   "source": [
    "dict1 = {\"a\": 1, \n",
    "         \"b\": 2}\n",
    "\n",
    "dict2 = {\"c\": 3, \n",
    "         \"d\": 4}\n",
    "\n",
    "dict3 = {**dict1, **dict2}\n",
    "\n",
    "print(dict3)"
   ]
  },
  {
   "cell_type": "markdown",
   "id": "7d61f436-e8eb-4213-927b-23f8d66f5dc3",
   "metadata": {
    "id": "bea983a3"
   },
   "source": [
    "### Exercise 22:\n",
    "Create a dictionary where keys are numbers from 1 to 5, and values are their squares.\n",
    "\n",
    "```python\n",
    "# Exercise 22\n",
    "```\n",
    "\n",
    "---"
   ]
  },
  {
   "cell_type": "code",
   "execution_count": 35,
   "id": "5da83426-eba9-48a2-96a1-ca44cba4f7b0",
   "metadata": {},
   "outputs": [
    {
     "name": "stdout",
     "output_type": "stream",
     "text": [
      "{1: 1, 2: 4, 3: 9, 4: 16, 5: 25}\n"
     ]
    }
   ],
   "source": [
    "num = {x: x**2 for x in range(1,6)}\n",
    "\n",
    "print(num)"
   ]
  },
  {
   "cell_type": "markdown",
   "id": "f5900834-e4bc-4147-8c37-77e09f648d8e",
   "metadata": {
    "id": "bea983a3"
   },
   "source": [
    "### Exercise 23:\n",
    "Write a Python program to iterate through a dictionary and print each key-value pair.\n",
    "\n",
    "```python\n",
    "# Exercise 23\n",
    "```\n",
    "\n",
    "---"
   ]
  },
  {
   "cell_type": "code",
   "execution_count": 39,
   "id": "110efd15-0f3b-46b9-a3e5-3b6b8fbd8eb9",
   "metadata": {},
   "outputs": [
    {
     "name": "stdout",
     "output_type": "stream",
     "text": [
      "name : Sara\n",
      "age : 21\n",
      "degree : Bachelor's degree\n"
     ]
    }
   ],
   "source": [
    "person = {\"name\" : \"Sara\",\n",
    "          \"age\" : 21,\n",
    "          \"degree\" : \"Bachelor's degree\"}\n",
    "\n",
    "for i, j in person.items():\n",
    "    print(f\"{i} : {j}\")\n",
    "    "
   ]
  },
  {
   "cell_type": "markdown",
   "id": "d41e08fa-d954-4414-93ad-72a921dfacbe",
   "metadata": {
    "id": "bea983a3"
   },
   "source": [
    "### Exercise 24:\n",
    "Create a list of the first 5 letters of the alphabet using the `chr()` function.\n",
    "\n",
    "```python\n",
    "# Exercise 24\n",
    "```\n",
    "\n",
    "---"
   ]
  },
  {
   "cell_type": "code",
   "execution_count": 41,
   "id": "7d89b352-cfec-41c9-aac0-9734255e3b27",
   "metadata": {},
   "outputs": [
    {
     "name": "stdout",
     "output_type": "stream",
     "text": [
      "['A', 'B', 'C', 'D', 'E']\n"
     ]
    }
   ],
   "source": [
    "letter = [chr(x) for x in range(65, 70)]\n",
    "\n",
    "print(letter)"
   ]
  },
  {
   "cell_type": "markdown",
   "id": "45ab921d-5ade-4c84-b12c-00a1815a707a",
   "metadata": {
    "id": "bea983a3"
   },
   "source": [
    "### Exercise 25:\n",
    "Use the `zip()` function to combine two lists `[1, 2, 3]` and `[\"a\", \"b\", \"c\"]` into a list of tuples.\n",
    "\n",
    "```python\n",
    "# Exercise 25\n",
    "```\n",
    "\n",
    "---"
   ]
  },
  {
   "cell_type": "code",
   "execution_count": 43,
   "id": "4c994be4-0c47-4a61-8c78-1b1b3b0d4cbb",
   "metadata": {},
   "outputs": [
    {
     "name": "stdout",
     "output_type": "stream",
     "text": [
      "((1, 'a'), (2, 'b'), (3, 'c'))\n"
     ]
    }
   ],
   "source": [
    "list1 = [1, 2, 3]\n",
    "list2 = [\"a\", \"b\", \"c\"]\n",
    "\n",
    "list3 = tuple(zip(list1, list2))\n",
    "\n",
    "print(list3)\n"
   ]
  },
  {
   "cell_type": "markdown",
   "id": "a03f974f-e75a-4306-b373-893002525a53",
   "metadata": {
    "id": "bea983a3"
   },
   "source": [
    "### Exercise 26:\n",
    "Find the index of the value `50` in the list `[10, 20, 30, 40, 50]`.\n",
    "\n",
    "```python\n",
    "# Exercise 26\n",
    "```\n",
    "\n",
    "---"
   ]
  },
  {
   "cell_type": "code",
   "execution_count": 45,
   "id": "83fef124-b5d2-46c1-ad55-cd0ce3173549",
   "metadata": {},
   "outputs": [
    {
     "name": "stdout",
     "output_type": "stream",
     "text": [
      "4\n"
     ]
    }
   ],
   "source": [
    "list1 = [10, 20, 30, 40, 50]\n",
    "\n",
    "print(list1.index(50))"
   ]
  },
  {
   "cell_type": "markdown",
   "id": "d363eb32-f0c5-4298-80b0-4f73fcdd5585",
   "metadata": {
    "id": "bea983a3"
   },
   "source": [
    "### Exercise 27:\n",
    "Sort the list `names = [\"Alice\", \"Bob\", \"Charlie\", \"David\"]` in alphabetical order.\n",
    "\n",
    "```python\n",
    "# Exercise 27\n",
    "```\n",
    "\n",
    "---"
   ]
  },
  {
   "cell_type": "code",
   "execution_count": 51,
   "id": "4c78afa4-78d6-4cb2-bc8d-ef6c01a2ff1a",
   "metadata": {},
   "outputs": [
    {
     "name": "stdout",
     "output_type": "stream",
     "text": [
      "['Alice', 'Bob', 'Charlie', 'David']\n"
     ]
    }
   ],
   "source": [
    "names = [\"Alice\", \"Charlie\", \"Bob\", \"David\"]\n",
    "names.sort()\n",
    "\n",
    "print(names)"
   ]
  },
  {
   "cell_type": "markdown",
   "id": "9ea1959c-eb9d-4d6b-8019-a1743f1415f1",
   "metadata": {
    "id": "bea983a3"
   },
   "source": [
    "### Exercise 28:\n",
    "Write a Python function that takes a list of integers as input and returns the largest number.\n",
    "\n",
    "```python\n",
    "# Exercise 28\n",
    "```\n",
    "\n",
    "---"
   ]
  },
  {
   "cell_type": "code",
   "execution_count": 55,
   "id": "c243e4d8-0f98-41d6-8258-4376a47366c9",
   "metadata": {},
   "outputs": [
    {
     "name": "stdout",
     "output_type": "stream",
     "text": [
      "100\n"
     ]
    }
   ],
   "source": [
    "def max_list(lst):\n",
    "    return max(lst)\n",
    "\n",
    "list1 = [10, 20, 30, 40, 50,100]\n",
    "\n",
    "print(max_list(list1))"
   ]
  },
  {
   "cell_type": "markdown",
   "id": "7b8bb0a1-d5be-4d74-8c44-3b10eadbd734",
   "metadata": {
    "id": "bea983a3"
   },
   "source": [
    "### Exercise 29:\n",
    "Use the `count()` method to count how many times `\"apple\"` appears in the list `fruits = [\"apple\", \"banana\", \"apple\", \"orange\"]`.\n",
    "\n",
    "```python\n",
    "# Exercise 29\n",
    "```\n",
    "\n",
    "---"
   ]
  },
  {
   "cell_type": "code",
   "execution_count": 59,
   "id": "395d82c6-18f6-44c7-b2c0-9189c57fa9b3",
   "metadata": {},
   "outputs": [
    {
     "name": "stdout",
     "output_type": "stream",
     "text": [
      "2\n"
     ]
    }
   ],
   "source": [
    "fruits = [\"apple\", \"banana\", \"apple\", \"orange\"]\n",
    "\n",
    "print(fruits.count('apple'))"
   ]
  },
  {
   "cell_type": "markdown",
   "id": "f4c60567-3df5-4e4d-bcc5-e044199b838d",
   "metadata": {
    "id": "bea983a3"
   },
   "source": [
    "### Exercise 30:\n",
    "Create a dictionary `person` where keys are `\"name\"`, `\"age\"`, and `\"city\"`, and values are `\"Alice\"`, `25`, and `\"New York\"` respectively. Then access the value of the `\"city\"` key.\n",
    "\n",
    "```python\n",
    "# Exercise 30\n",
    "```\n",
    "\n",
    "---"
   ]
  },
  {
   "cell_type": "code",
   "execution_count": 61,
   "id": "8842558c-7c0b-4c74-8f53-d4c8f10b1631",
   "metadata": {},
   "outputs": [
    {
     "name": "stdout",
     "output_type": "stream",
     "text": [
      "New York\n"
     ]
    }
   ],
   "source": [
    "person = {\n",
    "    \"name\": \"Alice\",\n",
    "    \"age\": 25,\n",
    "    \"city\": \"New York\"\n",
    "}\n",
    "\n",
    "print(person[\"city\"])"
   ]
  },
  {
   "cell_type": "markdown",
   "id": "d4ccfc7f-7734-44b7-9d6d-c1646287e449",
   "metadata": {
    "id": "bea983a3"
   },
   "source": [
    "### Exercise 31:\n",
    "Write a Python function that takes a list as input and returns a new list with all duplicates removed.\n",
    "\n",
    "```python\n",
    "# Exercise 31\n",
    "```\n",
    "\n",
    "---"
   ]
  },
  {
   "cell_type": "code",
   "execution_count": 63,
   "id": "7c0616c5-cedc-4d98-8b05-236d221a2712",
   "metadata": {},
   "outputs": [
    {
     "name": "stdout",
     "output_type": "stream",
     "text": [
      "['banana', 'orange', 'apple']\n"
     ]
    }
   ],
   "source": [
    "def remove_dupli(lst):\n",
    "    return list(set(lst))\n",
    "\n",
    "fruits = [\"apple\", \"banana\", \"apple\", \"orange\"]\n",
    "\n",
    "print(remove_dupli(fruits))"
   ]
  },
  {
   "cell_type": "markdown",
   "id": "fcb0a704-6fcd-463f-8b49-0b96df6384db",
   "metadata": {
    "id": "bea983a3"
   },
   "source": [
    "### Exercise 32:\n",
    "Write a Python function that takes two lists and returns their intersection.\n",
    "\n",
    "```python\n",
    "# Exercise 32\n",
    "```\n",
    "\n",
    "---"
   ]
  },
  {
   "cell_type": "code",
   "execution_count": 65,
   "id": "ca5fc55d-6def-4f16-b5f8-6b2609b12847",
   "metadata": {},
   "outputs": [
    {
     "name": "stdout",
     "output_type": "stream",
     "text": [
      "[10, 20, 30]\n"
     ]
    }
   ],
   "source": [
    "\n",
    "def intersection(lst1, lst2):\n",
    "    return list(set(lst1) & set(lst2))\n",
    "\n",
    "\n",
    "list1 = [10, 20, 30, 40, 50,100]\n",
    "\n",
    "list2 = [10, 20, 30]\n",
    "\n",
    "print(intersection(list1, list2))\n",
    "\n"
   ]
  },
  {
   "cell_type": "markdown",
   "id": "e8856f55-9e86-4326-8855-0affb7d0de5e",
   "metadata": {
    "id": "bea983a3"
   },
   "source": [
    "### Exercise 33:\n",
    "Create a generator that yields the squares of numbers from 1 to 10.\n",
    "\n",
    "```python\n",
    "# Exercise 33\n",
    "```\n",
    "\n",
    "---"
   ]
  },
  {
   "cell_type": "code",
   "execution_count": 67,
   "id": "7c35372c-dea0-4d32-9182-47cc736802c8",
   "metadata": {},
   "outputs": [
    {
     "name": "stdout",
     "output_type": "stream",
     "text": [
      "1\n",
      "4\n",
      "9\n",
      "16\n",
      "25\n",
      "36\n",
      "49\n",
      "64\n",
      "81\n",
      "100\n"
     ]
    }
   ],
   "source": [
    "def gene_sqr():\n",
    "    for x in range(1,11):\n",
    "        yield x**2\n",
    "\n",
    "for square in gene_sqr():\n",
    "    print(square)"
   ]
  },
  {
   "cell_type": "markdown",
   "id": "fde38ba5-04cc-46ac-8c0c-4f7cb4d2ed2e",
   "metadata": {
    "id": "bea983a3"
   },
   "source": [
    "### Exercise 34:\n",
    "Write a Python function that takes a dictionary as input and returns the sum of all its values.\n",
    "\n",
    "```python\n",
    "# Exercise 34\n",
    "```\n",
    "\n",
    "---"
   ]
  },
  {
   "cell_type": "code",
   "execution_count": 69,
   "id": "943914ec-5216-4bec-84b0-2edab553ab0b",
   "metadata": {},
   "outputs": [
    {
     "name": "stdout",
     "output_type": "stream",
     "text": [
      "10\n"
     ]
    }
   ],
   "source": [
    "def sum_dict(dct):\n",
    "    return sum(dct.values())\n",
    "\n",
    "dict2 = {'a': 1, 'b': 2, 'c': 3, 'd': 4}\n",
    "\n",
    "print(sum_dict(dict2))"
   ]
  },
  {
   "cell_type": "markdown",
   "id": "0273da46-fd05-43f4-b7ae-f8b09e967eb0",
   "metadata": {
    "id": "bea983a3"
   },
   "source": [
    "### Exercise 35:\n",
    "Use the `sorted()` function to sort the list `[3, 1, 4, 1, 5, 9]` in ascending order.\n",
    "\n",
    "```python\n",
    "# Exercise 35\n",
    "```\n",
    "\n",
    "---"
   ]
  },
  {
   "cell_type": "code",
   "execution_count": 75,
   "id": "736f6772-f250-47ad-b15a-297e2ac857a9",
   "metadata": {},
   "outputs": [
    {
     "name": "stdout",
     "output_type": "stream",
     "text": [
      "[1, 1, 3, 4, 5, 9]\n"
     ]
    }
   ],
   "source": [
    "num = [3, 1, 4, 1, 5, 9]\n",
    "\n",
    "print(sorted(num))"
   ]
  },
  {
   "cell_type": "markdown",
   "id": "1427e8b7-3d15-4210-9826-3d228493a893",
   "metadata": {
    "id": "bea983a3"
   },
   "source": [
    "### Exercise 36:\n",
    "Write a Python function that takes a list of strings as input and returns the longest string.\n",
    "\n",
    "```python\n",
    "# Exercise 36\n",
    "```\n",
    "\n",
    "---"
   ]
  },
  {
   "cell_type": "code",
   "execution_count": 77,
   "id": "e10992a7-764a-4681-92ef-36de3a549d78",
   "metadata": {},
   "outputs": [
    {
     "name": "stdout",
     "output_type": "stream",
     "text": [
      "watermelon\n"
     ]
    }
   ],
   "source": [
    "def long_str(lst):\n",
    "    return max(lst, key=len)\n",
    "\n",
    "fruits = [\"pineapple\", \"banana\", \"apple\", \"orange\", \"watermelon\"]\n",
    "\n",
    "print(long_str(fruits))"
   ]
  },
  {
   "cell_type": "markdown",
   "id": "d52a092d-7b0f-4746-b24c-8aabda38129b",
   "metadata": {
    "id": "bea983a3"
   },
   "source": [
    "### Exercise 37:\n",
    "Check if all the elements in the list `[1, 2, 3, 4, 5]` are greater than 0 using the `all()` function.\n",
    "\n",
    "```python\n",
    "# Exercise 37\n",
    "```\n",
    "\n",
    "---"
   ]
  },
  {
   "cell_type": "code",
   "execution_count": 79,
   "id": "988858ea-525f-4e27-9007-0e4084308827",
   "metadata": {},
   "outputs": [
    {
     "name": "stdout",
     "output_type": "stream",
     "text": [
      "True\n"
     ]
    }
   ],
   "source": [
    "num = [1, 2, 3, 4, 5]\n",
    "\n",
    "print(all( x>0 for x in num))"
   ]
  },
  {
   "cell_type": "markdown",
   "id": "3749f432-30fb-463b-aaed-f2d57a4867b9",
   "metadata": {
    "id": "bea983a3"
   },
   "source": [
    "### Exercise 38:\n",
    "Create a list of tuples where each tuple contains a number and its square for numbers from 1 to 5.\n",
    "\n",
    "```python\n",
    "# Exercise 38\n",
    "```\n",
    "\n",
    "---"
   ]
  },
  {
   "cell_type": "code",
   "execution_count": 81,
   "id": "395d372f-4774-486c-84b3-d7ba0a87566c",
   "metadata": {},
   "outputs": [
    {
     "name": "stdout",
     "output_type": "stream",
     "text": [
      "[(1, 1), (2, 4), (3, 9), (4, 16), (5, 25)]\n"
     ]
    }
   ],
   "source": [
    "num = [(x, x**2) for x in range(1,6)]\n",
    "print(num)"
   ]
  },
  {
   "cell_type": "markdown",
   "id": "9f606129-f2f6-4020-9df4-f354f71814ed",
   "metadata": {
    "id": "bea983a3"
   },
   "source": [
    "### Exercise 39:\n",
    "Write a Python function that takes a list of tuples and returns a list of the second elements from each tuple.\n",
    "\n",
    "```python\n",
    "# Exercise 39\n",
    "```\n",
    "\n",
    "---"
   ]
  },
  {
   "cell_type": "code",
   "execution_count": 83,
   "id": "a95ca921-bd4a-4769-9f4a-eb7447e6c270",
   "metadata": {},
   "outputs": [
    {
     "name": "stdout",
     "output_type": "stream",
     "text": [
      "[1, 4, 9, 16, 25]\n"
     ]
    }
   ],
   "source": [
    "def sec_elts(tple):\n",
    "    return [ t[1] for t in tple]\n",
    "\n",
    "num = [(1, 1), (2, 4), (3, 9), (4, 16), (5, 25)]\n",
    "\n",
    "print(sec_elts(num))"
   ]
  },
  {
   "cell_type": "markdown",
   "id": "e4030593-a11e-4103-a095-314da2376d7b",
   "metadata": {
    "id": "bea983a3"
   },
   "source": [
    "### Exercise 40:\n",
    "Write a Python function that flattens a list of lists into a single list.\n",
    "\n",
    "```python\n",
    "# Exercise 40\n",
    "```\n",
    "\n",
    "---"
   ]
  },
  {
   "cell_type": "code",
   "execution_count": 86,
   "id": "b714a967-366d-4de1-8a62-79c8b9096a4a",
   "metadata": {},
   "outputs": [
    {
     "name": "stdout",
     "output_type": "stream",
     "text": [
      "[1, 1, 2, 4, 3, 9, 4, 16, 5, 25]\n"
     ]
    }
   ],
   "source": [
    "def flattens(lst):\n",
    "    return [i for sublist in lst for i in sublist]\n",
    "\n",
    "liste = [[1, 1], [2, 4], [3, 9], [4, 16], [5, 25]]\n",
    "\n",
    "print(flattens(liste))"
   ]
  },
  {
   "cell_type": "markdown",
   "id": "0426ab52-7a24-433f-8646-5db6f1a2120c",
   "metadata": {
    "id": "bea983a3"
   },
   "source": [
    "### Exercise 41:\n",
    "Use the `enumerate()` function to iterate through the list `[\"apple\", \"banana\", \"cherry\"]` and print the index and value.\n",
    "\n",
    "```python\n",
    "# Exercise 41\n",
    "```\n",
    "\n",
    "---"
   ]
  },
  {
   "cell_type": "code",
   "execution_count": 88,
   "id": "df81817f-e4fb-48c0-8e67-206d274ee421",
   "metadata": {},
   "outputs": [
    {
     "name": "stdout",
     "output_type": "stream",
     "text": [
      "0 : apple\n",
      "1 : banana\n",
      "2 : cherry\n"
     ]
    }
   ],
   "source": [
    "fruits = [\"apple\", \"banana\", \"cherry\"]\n",
    "\n",
    "for i, j in enumerate(fruits):\n",
    "    print(f\"{i} : {j}\")\n"
   ]
  },
  {
   "cell_type": "markdown",
   "id": "54ed7924-7ca2-4cfc-9c27-f2bd244de6af",
   "metadata": {
    "id": "bea983a3"
   },
   "source": [
    "### Exercise 42:\n",
    "Write a Python program that checks if a tuple is empty.\n",
    "\n",
    "```python\n",
    "# Exercise 42\n",
    "```\n",
    "\n",
    "---"
   ]
  },
  {
   "cell_type": "code",
   "execution_count": 104,
   "id": "a3ab3877-61e1-40bc-9e28-1f0119f0e1c2",
   "metadata": {},
   "outputs": [
    {
     "name": "stdout",
     "output_type": "stream",
     "text": [
      "False\n"
     ]
    }
   ],
   "source": [
    "tple = (1, 6)\n",
    "\n",
    "if len(tple) == 0:\n",
    "    print(\"True\")\n",
    "else:\n",
    "    print(\"False\")"
   ]
  },
  {
   "cell_type": "markdown",
   "id": "817100a9-402c-40bc-b5a9-7d959dade179",
   "metadata": {
    "id": "bea983a3"
   },
   "source": [
    "### Exercise 43:\n",
    "Create a list of even numbers between 1 and 20 using the `range()` function.\n",
    "\n",
    "```python\n",
    "# Exercise 43\n",
    "```\n",
    "\n",
    "---"
   ]
  },
  {
   "cell_type": "code",
   "execution_count": 106,
   "id": "1fccd1a0-d29f-4809-907c-cfd54e00fa03",
   "metadata": {},
   "outputs": [
    {
     "name": "stdout",
     "output_type": "stream",
     "text": [
      "[2, 4, 6, 8, 10, 12, 14, 16, 18, 20]\n"
     ]
    }
   ],
   "source": [
    "even = [x for x in range(1,21) if x%2==0]\n",
    "print(even)"
   ]
  },
  {
   "cell_type": "markdown",
   "id": "37a87657-2232-4809-9236-2c574cd6d8d9",
   "metadata": {
    "id": "bea983a3"
   },
   "source": [
    "### Exercise 44:\n",
    "Write a Python function that takes a list of numbers as input and returns the list in reverse order.\n",
    "\n",
    "```python\n",
    "# Exercise 44\n",
    "```\n",
    "\n",
    "---"
   ]
  },
  {
   "cell_type": "code",
   "execution_count": 109,
   "id": "dd463f2c-9056-4505-8f0c-f238b2a59364",
   "metadata": {},
   "outputs": [
    {
     "name": "stdout",
     "output_type": "stream",
     "text": [
      "[4, 3, 2, 1]\n"
     ]
    }
   ],
   "source": [
    "def reverse_list(lst):\n",
    "    return lst[::-1]\n",
    "\n",
    "num = [1, 2, 3, 4]\n",
    "\n",
    "print(reverse_list(num))"
   ]
  },
  {
   "cell_type": "markdown",
   "id": "e106ce99-cbc8-4852-b3da-cdd9d2480a34",
   "metadata": {
    "id": "bea983a3"
   },
   "source": [
    "### Exercise 45:\n",
    "Create a dictionary comprehension that maps numbers from 1 to 5 to their cubes.\n",
    "\n",
    "```python\n",
    "# Exercise 45\n",
    "```\n",
    "\n",
    "---"
   ]
  },
  {
   "cell_type": "code",
   "execution_count": 111,
   "id": "00f8488c-3543-49dd-be4d-80194347ff1d",
   "metadata": {},
   "outputs": [
    {
     "name": "stdout",
     "output_type": "stream",
     "text": [
      "{1: 1, 2: 8, 3: 27, 4: 64, 5: 125}\n"
     ]
    }
   ],
   "source": [
    "dict = {x : x**3 for x in range(1,6)}\n",
    "\n",
    "print(dict)"
   ]
  },
  {
   "cell_type": "markdown",
   "id": "a3258291-e488-435d-a1bd-3b2a56890b84",
   "metadata": {
    "id": "bea983a3"
   },
   "source": [
    "### Exercise 46:\n",
    "Write a Python program that creates a new list containing only the unique elements of the list `[1, 2, 2, 3, 4, 4, 5]`.\n",
    "\n",
    "```python\n",
    "# Exercise 46\n",
    "```\n",
    "\n",
    "---"
   ]
  },
  {
   "cell_type": "code",
   "execution_count": 113,
   "id": "6ab68e41-d5cb-40fc-84b0-b58094dd06be",
   "metadata": {},
   "outputs": [
    {
     "name": "stdout",
     "output_type": "stream",
     "text": [
      "[1, 2, 3, 4, 5]\n"
     ]
    }
   ],
   "source": [
    "num = [1, 2, 2, 3, 4, 4, 5]\n",
    "\n",
    "liste_uni = list(set(num))\n",
    "\n",
    "print(liste_uni)"
   ]
  },
  {
   "cell_type": "markdown",
   "id": "c7e03876-430b-4f35-aaf0-53768089fe5b",
   "metadata": {
    "id": "bea983a3"
   },
   "source": [
    "### Exercise 47:\n",
    "Write a Python function that takes a list of dictionaries and returns a list of the values for a given key.\n",
    "\n",
    "```python\n",
    "# Exercise 47\n",
    "```\n",
    "\n",
    "---"
   ]
  },
  {
   "cell_type": "code",
   "execution_count": 119,
   "id": "838f0884-e17f-44b0-bbb5-2e39de9fa153",
   "metadata": {},
   "outputs": [
    {
     "name": "stdout",
     "output_type": "stream",
     "text": [
      "['Alice']\n"
     ]
    }
   ],
   "source": [
    "def extract(dicts, key):\n",
    "    return [d[key] for d in dicts if key in d]\n",
    "\n",
    "person =  [\n",
    "    {\"name\": \"Alice\"},\n",
    "    {\"age\": 25},\n",
    "    {\"city\": \"New York\"}]\n",
    "\n",
    "print(extract(person, \"name\"))"
   ]
  },
  {
   "cell_type": "markdown",
   "id": "d26da7d1-514a-43bd-b535-a89f0fdc9316",
   "metadata": {
    "id": "bea983a3"
   },
   "source": [
    "### Exercise 48:\n",
    "Write a Python function that uses a generator to yield the Fibonacci sequence up to `n` terms.\n",
    "\n",
    "```python\n",
    "# Exercise 48\n",
    "```\n",
    "\n",
    "---"
   ]
  },
  {
   "cell_type": "code",
   "execution_count": 121,
   "id": "ac9e175c-4eb2-425e-8526-9bc275a9b5f6",
   "metadata": {},
   "outputs": [
    {
     "name": "stdout",
     "output_type": "stream",
     "text": [
      "[0, 1, 1, 2, 3, 5, 8, 13, 21, 34]\n"
     ]
    }
   ],
   "source": [
    "def fibo(n):\n",
    "    a, b = 0,1\n",
    "    for _ in range(n):\n",
    "        yield a\n",
    "        a, b = b, a+b\n",
    "\n",
    "print(list(fibo(10)))"
   ]
  },
  {
   "cell_type": "markdown",
   "id": "d6424720-555b-4402-b1f3-a103db744570",
   "metadata": {
    "id": "bea983a3"
   },
   "source": [
    "### Exercise 49:\n",
    "Write a Python function that takes a string and returns a list of all unique characters in the string.\n",
    "\n",
    "```python\n",
    "# Exercise 49\n",
    "```\n",
    "\n",
    "---"
   ]
  },
  {
   "cell_type": "code",
   "execution_count": 125,
   "id": "77fa6aca-9a6c-45ae-b8fb-f041d9a17232",
   "metadata": {},
   "outputs": [
    {
     "name": "stdout",
     "output_type": "stream",
     "text": [
      "['y', 'g', 's', 'u', 'e', 'l', 'o', 'h', ' ']\n"
     ]
    }
   ],
   "source": [
    "def uni_char(s):\n",
    "    return list(set(s))\n",
    "\n",
    "print(uni_char(\"hello guyss\"))"
   ]
  },
  {
   "cell_type": "markdown",
   "id": "3e252f5a-e4e6-4bf0-8882-904bd277feac",
   "metadata": {
    "id": "bea983a3"
   },
   "source": [
    "### Exercise 50:\n",
    "Write a Python function that merges two sorted lists into a single sorted list.\n",
    "\n",
    "```python\n",
    "# Exercise 50\n",
    "```\n",
    "\n",
    "---"
   ]
  },
  {
   "cell_type": "code",
   "execution_count": 131,
   "id": "a002477d-4c4b-445b-acf0-0c91ded9d55c",
   "metadata": {},
   "outputs": [
    {
     "name": "stdout",
     "output_type": "stream",
     "text": [
      "[1, 3, 7, 9, 15, 19, 55, 78, 89]\n"
     ]
    }
   ],
   "source": [
    "def mix(list1, list2):\n",
    "    return sorted(list1 + list2)\n",
    "\n",
    "\n",
    "lst1 = [15, 55, 89]\n",
    "lst2 = [1,7, 19, 3, 9, 78]\n",
    "\n",
    "print(mix(lst1, lst2))"
   ]
  },
  {
   "cell_type": "markdown",
   "id": "b87755aa-8c55-4e01-a68b-df8f2a2a2a8c",
   "metadata": {
    "id": "bea983a3"
   },
   "source": [
    "### Exercise 51:\n",
    "Use the\n",
    "\n",
    " `filter()` function to filter out odd numbers from the list `[1, 2, 3, 4, 5, 6]`.\n",
    "\n",
    "```python\n",
    "# Exercise 51\n",
    "```\n",
    "\n",
    "---"
   ]
  },
  {
   "cell_type": "code",
   "execution_count": 133,
   "id": "ecea33a1-8f12-4093-80a4-588cb67c5669",
   "metadata": {},
   "outputs": [
    {
     "name": "stdout",
     "output_type": "stream",
     "text": [
      "[2, 4, 6]\n"
     ]
    }
   ],
   "source": [
    "num = [1, 2, 3, 4, 5, 6]\n",
    "\n",
    "even = list(filter(lambda x: x%2==0, num))\n",
    "\n",
    "print(even)"
   ]
  },
  {
   "cell_type": "markdown",
   "id": "4b8a30ba-ad91-4fb1-898a-1774572a76d1",
   "metadata": {
    "id": "bea983a3"
   },
   "source": [
    "### Exercise 52:\n",
    "Write a Python program that converts a list of tuples `[(1, 2), (3, 4), (5, 6)]` into a dictionary.\n",
    "\n",
    "```python\n",
    "# Exercise 52\n",
    "```\n",
    "\n",
    "---"
   ]
  },
  {
   "cell_type": "code",
   "execution_count": 139,
   "id": "4aa6b60f-2aa4-45ef-b29a-dad7ec3c3bfa",
   "metadata": {},
   "outputs": [
    {
     "ename": "TypeError",
     "evalue": "'dict' object is not callable",
     "output_type": "error",
     "traceback": [
      "\u001b[1;31m---------------------------------------------------------------------------\u001b[0m",
      "\u001b[1;31mTypeError\u001b[0m                                 Traceback (most recent call last)",
      "Cell \u001b[1;32mIn[139], line 3\u001b[0m\n\u001b[0;32m      1\u001b[0m tuples \u001b[38;5;241m=\u001b[39m [(\u001b[38;5;241m1\u001b[39m, \u001b[38;5;241m2\u001b[39m), (\u001b[38;5;241m3\u001b[39m, \u001b[38;5;241m4\u001b[39m), (\u001b[38;5;241m5\u001b[39m, \u001b[38;5;241m6\u001b[39m)]\n\u001b[1;32m----> 3\u001b[0m d \u001b[38;5;241m=\u001b[39m \u001b[38;5;28mdict\u001b[39m(\u001b[38;5;124m\"\u001b[39m\u001b[38;5;124mtuples\u001b[39m\u001b[38;5;124m\"\u001b[39m)\n\u001b[0;32m      5\u001b[0m \u001b[38;5;28mprint\u001b[39m(d)\n",
      "\u001b[1;31mTypeError\u001b[0m: 'dict' object is not callable"
     ]
    }
   ],
   "source": [
    "tuples = [(1, 2), (3, 4), (5, 6)]\n",
    "\n",
    "d = dict(tuples)\n",
    "\n",
    "print(d)"
   ]
  },
  {
   "cell_type": "markdown",
   "id": "bfb78b18-da97-4dcc-8c35-daf4cd31ad64",
   "metadata": {
    "id": "bea983a3"
   },
   "source": [
    "### Exercise 53:\n",
    "Write a Python function that takes two sets and returns their symmetric difference.\n",
    "\n",
    "```python\n",
    "# Exercise 53\n",
    "```\n",
    "\n",
    "---"
   ]
  },
  {
   "cell_type": "code",
   "execution_count": 142,
   "id": "c4583afc-4dbe-4962-8720-a8430a982398",
   "metadata": {},
   "outputs": [
    {
     "name": "stdout",
     "output_type": "stream",
     "text": [
      "{1, 2, 4, 5}\n"
     ]
    }
   ],
   "source": [
    "def sy_diff(s1, s2):\n",
    "    return s1 ^ s2\n",
    "\n",
    "set1 = {1,2,3}\n",
    "set2 = {3,4,5}\n",
    "\n",
    "print(sy_diff(set1, set2))"
   ]
  },
  {
   "cell_type": "markdown",
   "id": "0939a855-caf0-4d0b-be84-cdb7461a4a62",
   "metadata": {
    "id": "bea983a3"
   },
   "source": [
    "### Exercise 54:\n",
    "Write a Python program that finds the common elements in three lists `list1`, `list2`, and `list3`.\n",
    "\n",
    "```python\n",
    "# Exercise 54\n",
    "```\n",
    "\n",
    "---"
   ]
  },
  {
   "cell_type": "code",
   "execution_count": 273,
   "id": "6513c16b-df63-4860-8ff9-0ffb3be94d97",
   "metadata": {},
   "outputs": [
    {
     "name": "stdout",
     "output_type": "stream",
     "text": [
      "[2]\n"
     ]
    }
   ],
   "source": [
    "def common_elt(l1, l2, l3):\n",
    "    return list(set(l1) & set(l2) & set(l3))\n",
    "\n",
    "print(common_elt([1,2], [2,8], [2,78]))"
   ]
  },
  {
   "cell_type": "markdown",
   "id": "c6435868-b7dc-437f-86b0-28e64bfee72e",
   "metadata": {
    "id": "bea983a3"
   },
   "source": [
    "### Exercise 55:\n",
    "Write a Python function that returns the factorial of a number using recursion.\n",
    "\n",
    "```python\n",
    "# Exercise 55\n",
    "```\n",
    "\n",
    "---"
   ]
  },
  {
   "cell_type": "code",
   "execution_count": 275,
   "id": "2a881de6-8df1-4dc6-82cf-0aff110f1b93",
   "metadata": {},
   "outputs": [
    {
     "name": "stdout",
     "output_type": "stream",
     "text": [
      "120\n"
     ]
    }
   ],
   "source": [
    "def facto(n):\n",
    "    if n == 0:\n",
    "        return 1\n",
    "\n",
    "    return n*facto(n-1)\n",
    "\n",
    "print(facto(5))\n",
    "    "
   ]
  },
  {
   "cell_type": "markdown",
   "id": "e1aa1361-c805-4219-a903-bb44af819488",
   "metadata": {
    "id": "bea983a3"
   },
   "source": [
    "### Exercise 56:\n",
    "Write a Python program that removes all empty strings from the list `[\"apple\", \"\", \"banana\", \"\", \"cherry\"]`.\n",
    "\n",
    "```python\n",
    "# Exercise 56\n",
    "```\n",
    "\n",
    "---"
   ]
  },
  {
   "cell_type": "code",
   "execution_count": 259,
   "id": "9a2cf849-64b8-4b0d-a0fe-c1faa0294795",
   "metadata": {},
   "outputs": [
    {
     "name": "stdout",
     "output_type": "stream",
     "text": [
      "['apple', 'banana', 'cherry']\n"
     ]
    }
   ],
   "source": [
    "fruits = [\"apple\", \"\", \"banana\", \"\", \"cherry\"]\n",
    "\n",
    "cleaning = list(filter(None, fruits))\n",
    "\n",
    "print(cleaning)"
   ]
  },
  {
   "cell_type": "markdown",
   "id": "80090c5c-647b-4cac-83e7-bad10fcecc2a",
   "metadata": {
    "id": "bea983a3"
   },
   "source": [
    "### Exercise 57:\n",
    "Write a Python function that takes a dictionary and returns a new dictionary with the keys and values swapped.\n",
    "\n",
    "```python\n",
    "# Exercise 57\n",
    "```\n",
    "\n",
    "---"
   ]
  },
  {
   "cell_type": "code",
   "execution_count": 265,
   "id": "6a1dc3d1-8334-472a-8566-d459d81cee02",
   "metadata": {},
   "outputs": [
    {
     "name": "stdout",
     "output_type": "stream",
     "text": [
      "{1: 'a', 34: 'b'}\n"
     ]
    }
   ],
   "source": [
    "def inv_dict(dct):\n",
    "    return {v: k for k, v in dct.items()}\n",
    "\n",
    "print(inv_dict({\"a\":1, \"b\":34}))"
   ]
  },
  {
   "cell_type": "markdown",
   "id": "0bdae884-885d-4c83-a601-2872345a9cc0",
   "metadata": {
    "id": "bea983a3"
   },
   "source": [
    "### Exercise 58:\n",
    "Write a Python function that takes a list of integers and returns a new list with only the even numbers.\n",
    "\n",
    "```python\n",
    "# Exercise 58\n",
    "```\n",
    "\n",
    "---"
   ]
  },
  {
   "cell_type": "code",
   "execution_count": 267,
   "id": "f8547deb-e5e9-42d3-8b4a-00459983aa6b",
   "metadata": {},
   "outputs": [
    {
     "name": "stdout",
     "output_type": "stream",
     "text": [
      "[10, 14]\n"
     ]
    }
   ],
   "source": [
    "def even_num(lst):\n",
    "    return [x for x in lst if x % 2 ==0]\n",
    "\n",
    "print(even_num([1,3,9,10,14]))"
   ]
  },
  {
   "cell_type": "markdown",
   "id": "71091844-47de-406c-a0c3-9e3e2d8fb69e",
   "metadata": {
    "id": "bea983a3"
   },
   "source": [
    "### Exercise 59:\n",
    "Write a Python function that takes a list of tuples and returns a list of the first elements of each tuple.\n",
    "\n",
    "```python\n",
    "# Exercise 59\n",
    "```\n",
    "\n",
    "---"
   ]
  },
  {
   "cell_type": "code",
   "execution_count": 269,
   "id": "c38ab794-a56b-49ab-a280-154c209d513c",
   "metadata": {},
   "outputs": [
    {
     "name": "stdout",
     "output_type": "stream",
     "text": [
      "[1, 2]\n"
     ]
    }
   ],
   "source": [
    "def first_el(tpl):\n",
    "    return [t[0] for t in tpl]\n",
    "\n",
    "print(first_el([(1,\"a\"), (2, \"v\")]))"
   ]
  },
  {
   "cell_type": "markdown",
   "id": "13dba886-b82d-48d6-bc1a-72866d5af418",
   "metadata": {
    "id": "bea983a3"
   },
   "source": [
    "### Exercise 60:\n",
    "Write a Python program that removes duplicates from a list without changing the order of elements.\n",
    "\n",
    "```python\n",
    "# Exercise 60\n",
    "```\n",
    "\n",
    "---"
   ]
  },
  {
   "cell_type": "code",
   "execution_count": 271,
   "id": "653db36a-e9c3-4a69-a803-77f5f32b7d52",
   "metadata": {},
   "outputs": [
    {
     "name": "stdout",
     "output_type": "stream",
     "text": [
      "[1, 6, 8]\n"
     ]
    }
   ],
   "source": [
    "def remo_dupli(lst):\n",
    "    seen = set()\n",
    "    res = []\n",
    "    for item in lst:\n",
    "        if item not in seen:\n",
    "            seen.add(item)\n",
    "            res.append(item)\n",
    "\n",
    "    return res\n",
    "\n",
    "print(remo_dupli([1,6,6,8]))"
   ]
  },
  {
   "cell_type": "markdown",
   "id": "12568272-1920-4c6c-ba76-fc83ceb293db",
   "metadata": {
    "id": "bea983a3"
   },
   "source": [
    "### Exercise 61:\n",
    "Use the `map()` function to convert a list of strings to a list of their lengths.\n",
    "\n",
    "```python\n",
    "# Exercise 61\n",
    "```\n",
    "\n",
    "---"
   ]
  },
  {
   "cell_type": "code",
   "execution_count": 257,
   "id": "90dad631-7e15-429c-8d22-1adfadb11702",
   "metadata": {},
   "outputs": [
    {
     "name": "stdout",
     "output_type": "stream",
     "text": [
      "[4, 7, 4, 7]\n"
     ]
    }
   ],
   "source": [
    "food = [\"rice\", \"chicken\", \"khom\", \"attièkè\"]\n",
    "\n",
    "leng = list(map(len, food))\n",
    "\n",
    "print(leng)"
   ]
  },
  {
   "cell_type": "markdown",
   "id": "4aa3fe7a-b983-4ba9-be83-8d5c195dddea",
   "metadata": {
    "id": "bea983a3"
   },
   "source": [
    "### Exercise 62:\n",
    "Write a Python program that calculates the average of a list of numbers.\n",
    "\n",
    "```python\n",
    "# Exercise 62\n",
    "```\n",
    "\n",
    "---"
   ]
  },
  {
   "cell_type": "code",
   "execution_count": 253,
   "id": "9726c74f-0c4c-4e2e-9310-61eee6ae5a98",
   "metadata": {},
   "outputs": [
    {
     "name": "stdout",
     "output_type": "stream",
     "text": [
      "31.0\n"
     ]
    }
   ],
   "source": [
    "def average(lst):\n",
    "    return sum(lst) / len(lst) if lst else 0\n",
    "\n",
    "print(average([10,15,68]))"
   ]
  },
  {
   "cell_type": "markdown",
   "id": "17227a75-6f12-4508-9d14-110b146006a5",
   "metadata": {
    "id": "bea983a3"
   },
   "source": [
    "### Exercise 63:\n",
    "Write a Python function that generates a list of the first `n` Fibonacci numbers.\n",
    "\n",
    "```python\n",
    "# Exercise 63\n",
    "```\n",
    "\n",
    "---"
   ]
  },
  {
   "cell_type": "code",
   "execution_count": 255,
   "id": "0f721c96-5350-4333-a3db-a0e6e6b927be",
   "metadata": {},
   "outputs": [
    {
     "name": "stdout",
     "output_type": "stream",
     "text": [
      "[0, 1, 1, 2, 3, 5, 8, 13, 21, 34, 55, 89, 144, 233, 377, 610, 987, 1597, 2584, 4181]\n"
     ]
    }
   ],
   "source": [
    "def fibo(n):\n",
    "    a, b = 0,1\n",
    "    res = []\n",
    "    for _ in range (n):\n",
    "        res.append(a)\n",
    "        a, b = b, a+b\n",
    "\n",
    "    return res\n",
    "\n",
    "print(fibo(20))"
   ]
  },
  {
   "cell_type": "markdown",
   "id": "998884ae-32e0-4da4-9ec5-0c3a12b26f8f",
   "metadata": {
    "id": "bea983a3"
   },
   "source": [
    "### Exercise 64:\n",
    "Write a Python program that counts how many times each element appears in the list `[\"apple\", \"banana\", \"apple\", \"cherry\"]`.\n",
    "\n",
    "```python\n",
    "# Exercise 64\n",
    "```\n",
    "\n",
    "---"
   ]
  },
  {
   "cell_type": "code",
   "execution_count": 245,
   "id": "63fbe6f8-ec39-4070-a397-05cd27f5fd6f",
   "metadata": {},
   "outputs": [
    {
     "ename": "TypeError",
     "evalue": "'dict' object is not callable",
     "output_type": "error",
     "traceback": [
      "\u001b[1;31m---------------------------------------------------------------------------\u001b[0m",
      "\u001b[1;31mTypeError\u001b[0m                                 Traceback (most recent call last)",
      "Cell \u001b[1;32mIn[245], line 5\u001b[0m\n\u001b[0;32m      1\u001b[0m \u001b[38;5;28;01mfrom\u001b[39;00m \u001b[38;5;21;01mcollections\u001b[39;00m \u001b[38;5;28;01mimport\u001b[39;00m Counter\n\u001b[0;32m      3\u001b[0m fruits \u001b[38;5;241m=\u001b[39m [\u001b[38;5;124m\"\u001b[39m\u001b[38;5;124mapple\u001b[39m\u001b[38;5;124m\"\u001b[39m, \u001b[38;5;124m\"\u001b[39m\u001b[38;5;124mbanana\u001b[39m\u001b[38;5;124m\"\u001b[39m, \u001b[38;5;124m\"\u001b[39m\u001b[38;5;124mapple\u001b[39m\u001b[38;5;124m\"\u001b[39m, \u001b[38;5;124m\"\u001b[39m\u001b[38;5;124mcherry\u001b[39m\u001b[38;5;124m\"\u001b[39m]\n\u001b[1;32m----> 5\u001b[0m coun \u001b[38;5;241m=\u001b[39m \u001b[38;5;28mdict\u001b[39m(Counter(fruits))\n\u001b[0;32m      7\u001b[0m \u001b[38;5;28mprint\u001b[39m(coun)\n",
      "\u001b[1;31mTypeError\u001b[0m: 'dict' object is not callable"
     ]
    }
   ],
   "source": [
    "from collections import Counter\n",
    "\n",
    "fruits = [\"apple\", \"banana\", \"apple\", \"cherry\"]\n",
    "\n",
    "coun = dict(Counter(fruits))\n",
    "\n",
    "print(coun)"
   ]
  },
  {
   "cell_type": "markdown",
   "id": "9523f36a-15c3-4a68-8164-e2cb28fc4d6b",
   "metadata": {
    "id": "bea983a3"
   },
   "source": [
    "### Exercise 65:\n",
    "Write a Python program that removes all occurrences of a specific value from a list.\n",
    "\n",
    "```python\n",
    "# Exercise 65\n",
    "```\n",
    "\n",
    "---"
   ]
  },
  {
   "cell_type": "code",
   "execution_count": 247,
   "id": "76222945-6dcc-48b9-a31a-797508651580",
   "metadata": {},
   "outputs": [
    {
     "name": "stdout",
     "output_type": "stream",
     "text": [
      "[1, 9, 5]\n"
     ]
    }
   ],
   "source": [
    "def remo_val(lst, val):\n",
    "    return [x for x in lst if x != val]\n",
    "\n",
    "print(remo_val([1,7,7,9,5], 7))"
   ]
  },
  {
   "cell_type": "markdown",
   "id": "05603779-d5e3-4235-8755-9dbafc0c0afe",
   "metadata": {
    "id": "bea983a3"
   },
   "source": [
    "### Exercise 66:\n",
    "Write a Python function that takes a list of strings and returns a list of the strings that start with a vowel.\n",
    "\n",
    "```python\n",
    "# Exercise 66\n",
    "```\n",
    "\n",
    "---"
   ]
  },
  {
   "cell_type": "code",
   "execution_count": 249,
   "id": "9cfb5dec-a195-4eef-95dc-cd3767fe08cc",
   "metadata": {},
   "outputs": [
    {
     "name": "stdout",
     "output_type": "stream",
     "text": [
      "['apple', 'orange']\n"
     ]
    }
   ],
   "source": [
    "def start_vo(lst):\n",
    "    vo = \"aeiouAEIOU\"\n",
    "    return [s for s in lst if s and s[0] in vo]\n",
    "\n",
    "print(start_vo([\"apple\", \"kiwi\", \"orange\"]))"
   ]
  },
  {
   "cell_type": "markdown",
   "id": "70e68364-76c4-4352-991c-f4d25d943e72",
   "metadata": {
    "id": "bea983a3"
   },
   "source": [
    "### Exercise 67:\n",
    "Write a Python program that finds the intersection of two sets `set1` and `set2`.\n",
    "\n",
    "```python\n",
    "# Exercise 67\n",
    "```\n",
    "\n",
    "---"
   ]
  },
  {
   "cell_type": "code",
   "execution_count": 251,
   "id": "2cae6eb7-db3b-40aa-92d8-1191bf6f71ab",
   "metadata": {},
   "outputs": [
    {
     "name": "stdout",
     "output_type": "stream",
     "text": [
      "{25}\n"
     ]
    }
   ],
   "source": [
    "s1 = {1,25,36}\n",
    "s2 = {12,25,6}\n",
    "\n",
    "print(s1 & s2)"
   ]
  },
  {
   "cell_type": "markdown",
   "id": "8383e6cf-3964-4ad7-b85a-8f4440fefaca",
   "metadata": {
    "id": "bea983a3"
   },
   "source": [
    "### Exercise 68:\n",
    "Write a Python function that flattens a nested list.\n",
    "\n",
    "```python\n",
    "# Exercise 68\n",
    "```\n",
    "\n",
    "---"
   ]
  },
  {
   "cell_type": "code",
   "execution_count": 235,
   "id": "6ba4fcf1-0083-4f2b-a797-6abb4e19217c",
   "metadata": {},
   "outputs": [
    {
     "name": "stdout",
     "output_type": "stream",
     "text": [
      "[1, 2, 3, 54, 345]\n"
     ]
    }
   ],
   "source": [
    "def flat_nes(lst):\n",
    "    return [item for sublist in lst for item in sublist]\n",
    "\n",
    "print(flat_nes([ [1,2], [3,54], [345] ]))"
   ]
  },
  {
   "cell_type": "markdown",
   "id": "18bbc2b0-a8b0-4d0d-ab7f-22eb793eb160",
   "metadata": {
    "id": "bea983a3"
   },
   "source": [
    "### Exercise 69:\n",
    "Write a Python program that checks if all the elements in a list are unique.\n",
    "\n",
    "```python\n",
    "# Exercise 69\n",
    "```\n",
    "\n",
    "---"
   ]
  },
  {
   "cell_type": "code",
   "execution_count": 239,
   "id": "237b6040-de73-431d-af4c-341ccb278a4e",
   "metadata": {},
   "outputs": [
    {
     "name": "stdout",
     "output_type": "stream",
     "text": [
      "True\n",
      "False\n"
     ]
    }
   ],
   "source": [
    "def all_uni(lst):\n",
    "    return len(lst) == len(set(lst))\n",
    "\n",
    "print(all_uni([1,12,3]))\n",
    "\n",
    "print(all_uni([1,2,2]))"
   ]
  },
  {
   "cell_type": "markdown",
   "id": "9fe48096-969c-4ab8-8105-6f93ec392f85",
   "metadata": {
    "id": "bea983a3"
   },
   "source": [
    "### Exercise 70:\n",
    "Use the `reduce()` function from the `functools` module to multiply all elements in a list.\n",
    "\n",
    "```python\n",
    "# Exercise 70\n",
    "```\n",
    "\n",
    "---"
   ]
  },
  {
   "cell_type": "code",
   "execution_count": 241,
   "id": "e67e72bb-2028-4056-a4ea-8dec4c4c5e02",
   "metadata": {},
   "outputs": [
    {
     "name": "stdout",
     "output_type": "stream",
     "text": [
      "3026\n"
     ]
    }
   ],
   "source": [
    "from functools import reduce\n",
    "\n",
    "num = [1, 34, 89]\n",
    "\n",
    "pro = reduce(lambda x, y : x*y, num)\n",
    "\n",
    "print(pro)"
   ]
  },
  {
   "cell_type": "markdown",
   "id": "690e6f05-a102-42e7-9266-e295c1660a6e",
   "metadata": {
    "id": "bea983a3"
   },
   "source": [
    "### Exercise 71:\n",
    "Write a Python function that takes a list of strings and returns a dictionary where keys are strings and values are their lengths.\n",
    "\n",
    "```python\n",
    "# Exercise 71\n",
    "```\n",
    "\n",
    "---"
   ]
  },
  {
   "cell_type": "code",
   "execution_count": 243,
   "id": "899c5ea2-d608-478f-acd0-d689479c512c",
   "metadata": {},
   "outputs": [
    {
     "name": "stdout",
     "output_type": "stream",
     "text": [
      "{'orange': 6, 'kiwi': 4}\n"
     ]
    }
   ],
   "source": [
    "def str_len(lst):\n",
    "    return {s: len(s) for s in lst}\n",
    "\n",
    "print(str_len([\"orange\", \"kiwi\"]))"
   ]
  },
  {
   "cell_type": "markdown",
   "id": "9e4a7263-c004-4478-b0e4-a2e2ccec7d91",
   "metadata": {
    "id": "bea983a3"
   },
   "source": [
    "### Exercise 72:\n",
    "Write a Python program that counts the number of vowels in a string.\n",
    "\n",
    "```python\n",
    "# Exercise 72\n",
    "```\n",
    "\n",
    "---"
   ]
  },
  {
   "cell_type": "code",
   "execution_count": 223,
   "id": "54c94ac2-65da-4c36-b655-90d2dbf62752",
   "metadata": {},
   "outputs": [
    {
     "name": "stdout",
     "output_type": "stream",
     "text": [
      "5\n"
     ]
    }
   ],
   "source": [
    "def coun_vo(s):\n",
    "    return sum (1 for c in s.lower() if c in 'aeiou')\n",
    "\n",
    "print(coun_vo(\"Love you baby\"))"
   ]
  },
  {
   "cell_type": "markdown",
   "id": "c0fdd5dd-28b4-44d1-a7d3-98b3170eec72",
   "metadata": {
    "id": "bea983a3"
   },
   "source": [
    "### Exercise 73:\n",
    "Create a list of tuples where each tuple contains a number from 1 to 5 and its factorial.\n",
    "\n",
    "```python\n",
    "# Exercise 73\n",
    "```\n",
    "\n",
    "---"
   ]
  },
  {
   "cell_type": "code",
   "execution_count": 225,
   "id": "48537df1-08e8-4c92-aa43-cb4c82582334",
   "metadata": {},
   "outputs": [
    {
     "name": "stdout",
     "output_type": "stream",
     "text": [
      "[(1, 1), (2, 2), (3, 6), (4, 24), (5, 120)]\n"
     ]
    }
   ],
   "source": [
    "def facto(n):\n",
    "    return 1 if n==0 else n*facto(n-1)\n",
    "\n",
    "res = [(x, facto(x)) for x in range(1,6)]\n",
    "\n",
    "print(res)\n"
   ]
  },
  {
   "cell_type": "markdown",
   "id": "e773654c-eab9-4979-9085-79a765c39678",
   "metadata": {
    "id": "bea983a3"
   },
   "source": [
    "### Exercise 74:\n",
    "Write a Python program that converts a list of dictionaries into a single dictionary by merging them.\n",
    "\n",
    "```python\n",
    "# Exercise 74\n",
    "```\n",
    "\n",
    "---"
   ]
  },
  {
   "cell_type": "code",
   "execution_count": 229,
   "id": "083e66f5-4af0-4a4e-974a-718f9c68d166",
   "metadata": {},
   "outputs": [
    {
     "name": "stdout",
     "output_type": "stream",
     "text": [
      "{'a': 1, 'b': 5, 'g': 59}\n"
     ]
    }
   ],
   "source": [
    "dct = [{\"a\": 1}, {\"b\": 5}, {\"g\": 59}]\n",
    "\n",
    "merge = {}\n",
    "\n",
    "for d in dct:\n",
    "    for k, v in d.items():\n",
    "        merge[k] = merge.get(k, 0) + v\n",
    "\n",
    "print(merge)"
   ]
  },
  {
   "cell_type": "markdown",
   "id": "7a992032-2a70-411f-9b5b-becc6b308cba",
   "metadata": {
    "id": "bea983a3"
   },
   "source": [
    "### Exercise 75:\n",
    "Write a Python function that checks if a set is a subset of another set.\n",
    "\n",
    "```python\n",
    "# Exercise 75\n",
    "```\n",
    "\n",
    "---"
   ]
  },
  {
   "cell_type": "code",
   "execution_count": 233,
   "id": "d61d3e09-3b76-46c6-9a3b-01ebb120b79a",
   "metadata": {},
   "outputs": [
    {
     "name": "stdout",
     "output_type": "stream",
     "text": [
      "False\n"
     ]
    }
   ],
   "source": [
    "def is_sub(sm, bi):\n",
    "    return sm.issubset(bi)\n",
    "\n",
    "print(is_sub({1,4}, {3,95}))"
   ]
  },
  {
   "cell_type": "markdown",
   "id": "15f5b9e2-3bfa-45ab-8e2e-894c0b19ad3a",
   "metadata": {
    "id": "bea983a3"
   },
   "source": [
    "### Exercise 76:\n",
    "Write a Python program that sorts a list of tuples based on the second element in each tuple.\n",
    "\n",
    "```python\n",
    "# Exercise 76\n",
    "```\n",
    "\n",
    "---"
   ]
  },
  {
   "cell_type": "code",
   "execution_count": 217,
   "id": "c16d8530-990c-4e6c-9831-a5a00093b584",
   "metadata": {},
   "outputs": [
    {
     "name": "stdout",
     "output_type": "stream",
     "text": [
      "[(43, 3), (1, 6), (34, 8)]\n"
     ]
    }
   ],
   "source": [
    "tpl = [(1, 6), (43, 3) , (34, 8)]\n",
    "\n",
    "sort_tpl = sorted(tpl, key=lambda x : x[1])\n",
    "\n",
    "print(sort_tpl)"
   ]
  },
  {
   "cell_type": "markdown",
   "id": "9058d32e-7a12-4d1b-a512-1c41b7bdf248",
   "metadata": {
    "id": "bea983a3"
   },
   "source": [
    "### Exercise 77:\n",
    "Write a Python function that takes a list of integers and returns a new list with only the positive integers.\n",
    "\n",
    "```python\n",
    "# Exercise 77\n",
    "```\n",
    "\n",
    "---"
   ]
  },
  {
   "cell_type": "code",
   "execution_count": 219,
   "id": "e6b6b23b-00b9-48fe-bf92-056120ad9d7b",
   "metadata": {},
   "outputs": [
    {
     "name": "stdout",
     "output_type": "stream",
     "text": [
      "[25, 45]\n"
     ]
    }
   ],
   "source": [
    "def pos_int(lst):\n",
    "    return [x for x in lst if x > 0 ]\n",
    "\n",
    "print(pos_int([-1, -36, 0, 25, 45]))"
   ]
  },
  {
   "cell_type": "markdown",
   "id": "f594bc55-067c-45ff-ab92-aefbe4cf21e4",
   "metadata": {
    "id": "bea983a3"
   },
   "source": [
    "### Exercise 78:\n",
    "Write a Python function that takes two sets and returns their union.\n",
    "\n",
    "```python\n",
    "# Exercise 78\n",
    "```\n",
    "\n",
    "---"
   ]
  },
  {
   "cell_type": "code",
   "execution_count": 221,
   "id": "ee48b15b-19a7-4cf9-badb-42ec82a0eeb7",
   "metadata": {},
   "outputs": [
    {
     "name": "stdout",
     "output_type": "stream",
     "text": [
      "{8, 2, 3, 90}\n"
     ]
    }
   ],
   "source": [
    "s1 = {2, 8}\n",
    "s2 = {3, 90}\n",
    "\n",
    "print(s1 | s2)"
   ]
  },
  {
   "cell_type": "markdown",
   "id": "cc9b84ba-928e-405d-b151-a44e66442fb0",
   "metadata": {
    "id": "bea983a3"
   },
   "source": [
    "### Exercise 79:\n",
    "Write a Python function that takes a list of numbers and returns the product of all the numbers.\n",
    "\n",
    "```python\n",
    "# Exercise 79\n",
    "```\n",
    "\n",
    "---"
   ]
  },
  {
   "cell_type": "code",
   "execution_count": 176,
   "id": "8833bf33-e074-457c-a240-875a2b3e099b",
   "metadata": {},
   "outputs": [
    {
     "name": "stdout",
     "output_type": "stream",
     "text": [
      "26250\n"
     ]
    }
   ],
   "source": [
    "from functools import reduce\n",
    "\n",
    "def prod(lst):\n",
    "    return reduce(lambda x, y: x*y, lst)\n",
    "\n",
    "print(prod([1,15,125,14]))"
   ]
  },
  {
   "cell_type": "markdown",
   "id": "4eca0abf-f67d-49f2-b454-9a9ee4da521d",
   "metadata": {
    "id": "bea983a3"
   },
   "source": [
    "### Exercise 80:\n",
    "Write a Python program that converts a list of characters into a string.\n",
    "\n",
    "```python\n",
    "# Exercise 80\n",
    "```\n",
    "\n",
    "---"
   ]
  },
  {
   "cell_type": "code",
   "execution_count": 180,
   "id": "a3958d74-c6b7-4814-b1f3-aa096cdda76f",
   "metadata": {},
   "outputs": [
    {
     "name": "stdout",
     "output_type": "stream",
     "text": [
      "Morning\n"
     ]
    }
   ],
   "source": [
    "char = [\"M\", \"o\", \"r\", \"n\", \"i\", \"n\", \"g\"]\n",
    "\n",
    "str = ''.join(char)\n",
    "\n",
    "print(str)"
   ]
  },
  {
   "cell_type": "markdown",
   "id": "d94c80bb-da3c-4cd9-afc9-3af5c353131d",
   "metadata": {
    "id": "bea983a3"
   },
   "source": [
    "### Exercise 81:\n",
    "Write a Python program that finds the second largest number in a list of integers.\n",
    "\n",
    "```python\n",
    "# Exercise 81\n",
    "```\n",
    "\n",
    "---"
   ]
  },
  {
   "cell_type": "code",
   "execution_count": 182,
   "id": "d3d8756b-8e0c-43de-8a14-fb9661e641a0",
   "metadata": {},
   "outputs": [
    {
     "name": "stdout",
     "output_type": "stream",
     "text": [
      "17\n"
     ]
    }
   ],
   "source": [
    "def sec_large(lst):\n",
    "    uni = list(set(lst))\n",
    "    uni.sort()\n",
    "    return uni[-2] if len(uni) >=2 else None\n",
    "\n",
    "print(sec_large([1,155,12,17]))"
   ]
  },
  {
   "cell_type": "markdown",
   "id": "9dd7eff4-64fa-40d9-8c99-539acd1818d1",
   "metadata": {
    "id": "bea983a3"
   },
   "source": [
    "### Exercise 82:\n",
    "Write a Python function that takes a dictionary and returns a list of its keys in sorted order.\n",
    "\n",
    "```python\n",
    "# Exercise 82\n",
    "```\n",
    "\n",
    "---"
   ]
  },
  {
   "cell_type": "code",
   "execution_count": 186,
   "id": "759fe3d7-733a-4da9-bfee-ba437ad93990",
   "metadata": {},
   "outputs": [
    {
     "name": "stdout",
     "output_type": "stream",
     "text": [
      "['a', 'b']\n"
     ]
    }
   ],
   "source": [
    "def sort_key(dct):\n",
    "    return sorted(dct.keys())\n",
    "\n",
    "print(sort_key({\"b\":2, \"a\":25}))"
   ]
  },
  {
   "cell_type": "markdown",
   "id": "6bdba525-40ef-4a98-b455-ec0f8903c2de",
   "metadata": {
    "id": "bea983a3"
   },
   "source": [
    "### Exercise 83:\n",
    "Write a Python program that finds the most common element in a list.\n",
    "\n",
    "```python\n",
    "# Exercise 83\n",
    "```\n",
    "\n",
    "---"
   ]
  },
  {
   "cell_type": "code",
   "execution_count": 190,
   "id": "bc519d01-0d10-4a0c-ba3a-217ff0bbdff9",
   "metadata": {},
   "outputs": [
    {
     "ename": "AttributeError",
     "evalue": "'Counter' object has no attribute 'most_com'",
     "output_type": "error",
     "traceback": [
      "\u001b[1;31m---------------------------------------------------------------------------\u001b[0m",
      "\u001b[1;31mAttributeError\u001b[0m                            Traceback (most recent call last)",
      "Cell \u001b[1;32mIn[190], line 6\u001b[0m\n\u001b[0;32m      3\u001b[0m \u001b[38;5;28;01mdef\u001b[39;00m \u001b[38;5;21mmost_com\u001b[39m(lst):\n\u001b[0;32m      4\u001b[0m     \u001b[38;5;28;01mreturn\u001b[39;00m Counter(lst)\u001b[38;5;241m.\u001b[39mmost_com(\u001b[38;5;241m1\u001b[39m)[\u001b[38;5;241m0\u001b[39m][\u001b[38;5;241m0\u001b[39m]\n\u001b[1;32m----> 6\u001b[0m \u001b[38;5;28mprint\u001b[39m(most_com([\u001b[38;5;124m\"\u001b[39m\u001b[38;5;124mcherry\u001b[39m\u001b[38;5;124m\"\u001b[39m, \u001b[38;5;124m\"\u001b[39m\u001b[38;5;124morange\u001b[39m\u001b[38;5;124m\"\u001b[39m, \u001b[38;5;124m\"\u001b[39m\u001b[38;5;124mkiwi\u001b[39m\u001b[38;5;124m\"\u001b[39m, \u001b[38;5;124m\"\u001b[39m\u001b[38;5;124mkiwi\u001b[39m\u001b[38;5;124m\"\u001b[39m]))\n",
      "Cell \u001b[1;32mIn[190], line 4\u001b[0m, in \u001b[0;36mmost_com\u001b[1;34m(lst)\u001b[0m\n\u001b[0;32m      3\u001b[0m \u001b[38;5;28;01mdef\u001b[39;00m \u001b[38;5;21mmost_com\u001b[39m(lst):\n\u001b[1;32m----> 4\u001b[0m     \u001b[38;5;28;01mreturn\u001b[39;00m Counter(lst)\u001b[38;5;241m.\u001b[39mmost_com(\u001b[38;5;241m1\u001b[39m)[\u001b[38;5;241m0\u001b[39m][\u001b[38;5;241m0\u001b[39m]\n",
      "\u001b[1;31mAttributeError\u001b[0m: 'Counter' object has no attribute 'most_com'"
     ]
    }
   ],
   "source": [
    "from collections import Counter\n",
    "\n",
    "def most_com(lst):\n",
    "    return Counter(lst).most_com(1)[0][0]\n",
    "\n",
    "print(most_com([\"cherry\", \"orange\", \"kiwi\", \"kiwi\"]))"
   ]
  },
  {
   "cell_type": "markdown",
   "id": "61f0aa69-db05-4c18-aced-5509191cd1ac",
   "metadata": {
    "id": "bea983a3"
   },
   "source": [
    "### Exercise 84:\n",
    "Write a Python function that takes a list of tuples and returns a list of the tuples sorted by the first element.\n",
    "\n",
    "```python\n",
    "# Exercise 84\n",
    "```\n",
    "\n",
    "---"
   ]
  },
  {
   "cell_type": "code",
   "execution_count": 192,
   "id": "f0ca0672-af89-4886-9df0-296f15502ae4",
   "metadata": {},
   "outputs": [
    {
     "name": "stdout",
     "output_type": "stream",
     "text": [
      "[(1, 'b'), (3, 'c')]\n"
     ]
    }
   ],
   "source": [
    "tpl = [(3,'c') , (1, 'b')]\n",
    "\n",
    "sort_fst = sorted(tpl, key=lambda x: x[0])\n",
    "\n",
    "print(sort_fst)"
   ]
  },
  {
   "cell_type": "markdown",
   "id": "6e3bd14c-2e99-45d3-8b48-fc5170335d1d",
   "metadata": {
    "id": "bea983a3"
   },
   "source": [
    "### Exercise 85:\n",
    "Write a Python program that removes duplicates from a list of dictionaries.\n",
    "\n",
    "```python\n",
    "# Exercise 85\n",
    "```\n",
    "\n",
    "---"
   ]
  },
  {
   "cell_type": "code",
   "execution_count": 201,
   "id": "69045ec9-acba-4017-9520-3c85cd682e06",
   "metadata": {},
   "outputs": [
    {
     "name": "stdout",
     "output_type": "stream",
     "text": [
      "[{'a': 1}, {'b': 84}]\n"
     ]
    }
   ],
   "source": [
    "def remo_dupl(lst):\n",
    "    seen = []\n",
    "    res = []\n",
    "    for d in lst:\n",
    "        if d not in seen:\n",
    "            seen.append(d)\n",
    "            res.append(d)\n",
    "\n",
    "    return res\n",
    "\n",
    "print(remo_dupl([{\"a\":1}, {\"a\":1}, {\"b\":84}]))"
   ]
  },
  {
   "cell_type": "markdown",
   "id": "0d767db6-5d40-49bf-a92d-79750505b3a5",
   "metadata": {
    "id": "bea983a3"
   },
   "source": [
    "### Exercise 86:\n",
    "Write a Python function that takes a list of numbers and returns the minimum and maximum numbers in the list.\n",
    "\n",
    "```python\n",
    "# Exercise 86\n",
    "```\n",
    "\n",
    "---"
   ]
  },
  {
   "cell_type": "code",
   "execution_count": 203,
   "id": "16f30b6b-719d-4f46-8706-5469fd0e7cb2",
   "metadata": {},
   "outputs": [
    {
     "name": "stdout",
     "output_type": "stream",
     "text": [
      "(1, 5)\n"
     ]
    }
   ],
   "source": [
    "def min_max(lst):\n",
    "    return min(lst) , max(lst)\n",
    "\n",
    "print(min_max([3,1,5]))"
   ]
  },
  {
   "cell_type": "markdown",
   "id": "d5143419-e8d1-4a45-b682-40a842fcf276",
   "metadata": {
    "id": "bea983a3"
   },
   "source": [
    "### Exercise 87:\n",
    "Write a Python program that creates a list of tuples from two lists.\n",
    "\n",
    "```python\n",
    "# Exercise 87\n",
    "```\n",
    "\n",
    "---"
   ]
  },
  {
   "cell_type": "code",
   "execution_count": 205,
   "id": "212322f2-12b2-4f27-8cb3-ac0a46440362",
   "metadata": {},
   "outputs": [
    {
     "name": "stdout",
     "output_type": "stream",
     "text": [
      "[(1, 'a'), (2, 'b'), (74, 'c')]\n"
     ]
    }
   ],
   "source": [
    "ls1 = [1, 2, 74]\n",
    "ls2 = ['a', 'b', 'c']\n",
    "\n",
    "com = list(zip(ls1, ls2))\n",
    "\n",
    "print(com)"
   ]
  },
  {
   "cell_type": "markdown",
   "id": "aa5a9948-6cca-4ddb-a34a-7d78dafdf2fd",
   "metadata": {
    "id": "bea983a3"
   },
   "source": [
    "### Exercise 88:\n",
    "Write a Python function that takes a list of strings and returns a list of the strings in reverse order.\n",
    "\n",
    "```python\n",
    "# Exercise 88\n",
    "```\n",
    "\n",
    "---"
   ]
  },
  {
   "cell_type": "code",
   "execution_count": 207,
   "id": "c32c384d-64ad-45c8-b952-909703dd0152",
   "metadata": {},
   "outputs": [
    {
     "name": "stdout",
     "output_type": "stream",
     "text": [
      "['ruojnob', 'ssim']\n"
     ]
    }
   ],
   "source": [
    "def rev_str(lst):\n",
    "    return [ s[::-1] for s in lst]\n",
    "\n",
    "print(rev_str([\"bonjour\", \"miss\"]))"
   ]
  },
  {
   "cell_type": "markdown",
   "id": "a27533b1-00ad-46b5-a392-ef0736418cd2",
   "metadata": {
    "id": "bea983a3"
   },
   "source": [
    "### Exercise 89:\n",
    "Write a Python function that takes a list of integers and returns the sum of all odd numbers.\n",
    "\n",
    "```python\n",
    "# Exercise 89\n",
    "```\n",
    "\n",
    "---"
   ]
  },
  {
   "cell_type": "code",
   "execution_count": 209,
   "id": "7a7c494c-faee-47a5-9bcd-c3e679cc5a67",
   "metadata": {},
   "outputs": [
    {
     "name": "stdout",
     "output_type": "stream",
     "text": [
      "103\n"
     ]
    }
   ],
   "source": [
    "def sum_odd(lst):\n",
    "    return sum(x for x in lst if x%2 != 0)\n",
    "\n",
    "print(sum_odd([1,24,55,58,47]))"
   ]
  },
  {
   "cell_type": "markdown",
   "id": "31bee9a9-25b5-4789-bb9d-c19240e5435d",
   "metadata": {
    "id": "bea983a3"
   },
   "source": [
    "### Exercise 90:\n",
    "Write a Python program that checks if a string is a palindrome.\n",
    "\n",
    "```python\n",
    "# Exercise 90\n",
    "```\n",
    "\n",
    "---"
   ]
  },
  {
   "cell_type": "code",
   "execution_count": 211,
   "id": "76de83f9-d20e-4873-8c62-c47876bb158e",
   "metadata": {},
   "outputs": [
    {
     "name": "stdout",
     "output_type": "stream",
     "text": [
      "False\n"
     ]
    }
   ],
   "source": [
    "def is_palin(s):\n",
    "    return s == s[::-1]\n",
    "\n",
    "print(is_palin(\"transform\"))"
   ]
  },
  {
   "cell_type": "markdown",
   "id": "6f2d1a8a-ac37-47af-8f8d-20ca44046d37",
   "metadata": {
    "id": "bea983a3"
   },
   "source": [
    "### Exercise 91:\n",
    "Write a Python program that finds the median of a list of numbers.\n",
    "\n",
    "```python\n",
    "# Exercise 91\n",
    "```\n",
    "\n",
    "---"
   ]
  },
  {
   "cell_type": "code",
   "execution_count": 215,
   "id": "89474ead-2b6d-44cc-8025-0e976d021e82",
   "metadata": {},
   "outputs": [
    {
     "name": "stdout",
     "output_type": "stream",
     "text": [
      "26\n"
     ]
    }
   ],
   "source": [
    "def median(lst):\n",
    "    lst = sorted(lst)\n",
    "    n = len(lst)\n",
    "    mid = n //2\n",
    "    if n % 2 ==0:\n",
    "        return (lst[mid - 1] + lst[mid]) / 2\n",
    "\n",
    "    else :\n",
    "        return lst[mid]\n",
    "\n",
    "print(median([1,47,26]))\n",
    "    "
   ]
  },
  {
   "cell_type": "markdown",
   "id": "1e032f42-e490-4c89-8fdf-759d5f3adb19",
   "metadata": {
    "id": "bea983a3"
   },
   "source": [
    "### Exercise 92:\n",
    "Write a Python function that takes a list of dictionaries and returns a dictionary with the total value for each key.\n",
    "\n",
    "```python\n",
    "# Exercise 92\n",
    "```\n",
    "\n",
    "---"
   ]
  },
  {
   "cell_type": "code",
   "execution_count": 174,
   "id": "e72dd981-f2b7-436f-ba15-e9ba0c87a78c",
   "metadata": {},
   "outputs": [
    {
     "name": "stdout",
     "output_type": "stream",
     "text": [
      "{'a': 51, 'b': 3}\n"
     ]
    }
   ],
   "source": [
    "def sum_key(dct):\n",
    "    res = {}\n",
    "    for d in dct:\n",
    "        for k, v in d.items():\n",
    "            res[k] = res.get(k,0) + v\n",
    "\n",
    "    return res\n",
    "\n",
    "print(sum_key([{\"a\":1}, {\"b\":3, \"a\":50}]))"
   ]
  },
  {
   "cell_type": "markdown",
   "id": "95c2b20d-1dbd-4ccc-a077-cdca8f603225",
   "metadata": {
    "id": "bea983a3"
   },
   "source": [
    "### Exercise 93:\n",
    "Write a Python program that calculates the mode of a list of numbers.\n",
    "\n",
    "```python\n",
    "# Exercise 93\n",
    "```\n",
    "\n",
    "---"
   ]
  },
  {
   "cell_type": "code",
   "execution_count": 161,
   "id": "57adb0eb-3237-4d97-898a-7fc569b742ff",
   "metadata": {},
   "outputs": [
    {
     "name": "stdout",
     "output_type": "stream",
     "text": [
      "1\n"
     ]
    }
   ],
   "source": [
    "from statistics import mode\n",
    "lst = [1,25,35]\n",
    "\n",
    "print(mode(lst))"
   ]
  },
  {
   "cell_type": "markdown",
   "id": "c44ea210-b91c-4bb2-9a75-d84592df7167",
   "metadata": {
    "id": "bea983a3"
   },
   "source": [
    "### Exercise 94:\n",
    "Write a Python function that takes a list of numbers and returns the sum of the squares of all the numbers.\n",
    "\n",
    "```python\n",
    "# Exercise 94\n",
    "```\n",
    "\n",
    "---"
   ]
  },
  {
   "cell_type": "code",
   "execution_count": 163,
   "id": "01b1b9a7-7dd0-4ce7-a6fc-2e3881e6ea64",
   "metadata": {},
   "outputs": [
    {
     "name": "stdout",
     "output_type": "stream",
     "text": [
      "1851\n"
     ]
    }
   ],
   "source": [
    "def sum_squ(lst):\n",
    "    return sum(x**2 for x in lst)\n",
    "\n",
    "print(sum_squ(lst = [1,25,35]))"
   ]
  },
  {
   "cell_type": "markdown",
   "id": "9baa2411-6dfc-4396-bb2c-9759161f5de7",
   "metadata": {
    "id": "bea983a3"
   },
   "source": [
    "### Exercise 95:\n",
    "Write a Python program that creates a list of tuples, where each tuple contains a number and its cube for numbers from 1 to 5.\n",
    "\n",
    "```python\n",
    "# Exercise 95\n",
    "```\n",
    "\n",
    "---"
   ]
  },
  {
   "cell_type": "code",
   "execution_count": 165,
   "id": "9314dbf3-d8e6-4e66-b098-64eab85f1cae",
   "metadata": {},
   "outputs": [
    {
     "name": "stdout",
     "output_type": "stream",
     "text": [
      "[(1, 1), (2, 8), (3, 27), (4, 64), (5, 125)]\n"
     ]
    }
   ],
   "source": [
    "c = [(x, x**3) for x in range(1,6)]\n",
    "\n",
    "print(c)"
   ]
  },
  {
   "cell_type": "markdown",
   "id": "08f2e7a7-5451-43a4-be09-1c9a1d6da9af",
   "metadata": {
    "id": "bea983a3"
   },
   "source": [
    "### Exercise 96:\n",
    "Write a Python function that returns a list of all prime numbers up to `n`.\n",
    "\n",
    "```python\n",
    "# Exercise 96\n",
    "```\n",
    "\n",
    "---"
   ]
  },
  {
   "cell_type": "code",
   "execution_count": 170,
   "id": "e57072de-06ba-4f70-9766-16565b24ca0d",
   "metadata": {},
   "outputs": [
    {
     "name": "stdout",
     "output_type": "stream",
     "text": [
      "[2, 3, 5, 7, 11, 13, 17, 19]\n"
     ]
    }
   ],
   "source": [
    "def is_prime(n):\n",
    "    if n < 2:\n",
    "        return False\n",
    "\n",
    "    for i in range(2, int(n**0.5) + 1):\n",
    "        if n%i ==0:\n",
    "            return False\n",
    "\n",
    "    return True\n",
    "\n",
    "def prime_to(n):\n",
    "    return [x for x in range(2,n+1) if is_prime(x)]\n",
    "\n",
    "print(prime_to(20))\n",
    "    "
   ]
  },
  {
   "cell_type": "markdown",
   "id": "ac3be310-5711-4f02-b417-f4829014675f",
   "metadata": {
    "id": "bea983a3"
   },
   "source": [
    "### Exercise 97:\n",
    "Write a Python program that finds the common keys between two dictionaries.\n",
    "\n",
    "```python\n",
    "# Exercise 97\n",
    "```\n",
    "\n",
    "---"
   ]
  },
  {
   "cell_type": "code",
   "execution_count": 151,
   "id": "f2c0233f-2276-4cf8-85ed-c582586500f1",
   "metadata": {},
   "outputs": [
    {
     "name": "stdout",
     "output_type": "stream",
     "text": [
      "['a']\n"
     ]
    }
   ],
   "source": [
    "def common_key(d1, d2):\n",
    "    return list(set(d1.keys()) & set(d2.keys()))\n",
    "\n",
    "dict1 = {\"a\": 1, \"b\": 2}\n",
    "dict2 = {\"a\": 3, \"c\": 9}                    \n",
    "\n",
    "print(common_key(dict1, dict2))                    "
   ]
  },
  {
   "cell_type": "markdown",
   "id": "e1d1c93c-e741-48e8-941f-644d2f7be08a",
   "metadata": {
    "id": "bea983a3"
   },
   "source": [
    "### Exercise 98:\n",
    "Write a Python function that takes a list of strings and returns a list of the strings that contain more than 5 characters.\n",
    "\n",
    "```python\n",
    "# Exercise 98\n",
    "```\n",
    "\n",
    "---"
   ]
  },
  {
   "cell_type": "code",
   "execution_count": 153,
   "id": "b932264b-18dc-4724-9c25-67373d58ce0c",
   "metadata": {},
   "outputs": [
    {
     "name": "stdout",
     "output_type": "stream",
     "text": [
      "['banana', 'watermelon']\n"
     ]
    }
   ],
   "source": [
    "def lon_str(lst):\n",
    "    return [s for s in lst if len(s)>5]\n",
    "\n",
    "print(lon_str([\"apple\", \"banana\", \"watermelon\"]))"
   ]
  },
  {
   "cell_type": "markdown",
   "id": "59f2d33e-733d-4bca-9a4e-0cce9646e9c2",
   "metadata": {
    "id": "bea983a3"
   },
   "source": [
    "### Exercise 99:\n",
    "Write a Python program that converts a list of strings into a list of tuples, where each tuple contains the string and its length.\n",
    "\n",
    "```python\n",
    "# Exercise 99\n",
    "```\n",
    "\n",
    "---"
   ]
  },
  {
   "cell_type": "code",
   "execution_count": 155,
   "id": "7a9391a3-bb57-4ba5-90e0-8f94d4dce7be",
   "metadata": {},
   "outputs": [
    {
     "name": "stdout",
     "output_type": "stream",
     "text": [
      "[('apple', 5), ('banana', 6), ('watermelon', 10)]\n"
     ]
    }
   ],
   "source": [
    "def str_info(lst):\n",
    "    return [ (s, len(s)) for s in lst]\n",
    "\n",
    "print(str_info([\"apple\", \"banana\", \"watermelon\"]))"
   ]
  },
  {
   "cell_type": "markdown",
   "id": "b68251f4-c702-4b74-b3d5-1d32b391dc5a",
   "metadata": {
    "id": "bea983a3"
   },
   "source": [
    "### Exercise 100:\n",
    "Write a Python function that takes a list of dictionaries and returns a new dictionary by summing the values of each key across all dictionaries.\n",
    "\n",
    "```python\n",
    "# Exercise 100\n",
    "```\n",
    "\n",
    "---"
   ]
  },
  {
   "cell_type": "code",
   "execution_count": 145,
   "id": "df81a296-e6dc-4b8c-a2cd-2d19ed5bab76",
   "metadata": {},
   "outputs": [
    {
     "name": "stdout",
     "output_type": "stream",
     "text": [
      "{'a': 4, 'b': 11}\n"
     ]
    }
   ],
   "source": [
    "def sum_dic(dic):\n",
    "    res = {}\n",
    "    for d in dic:\n",
    "        for k, v in d.items():\n",
    "            res[k] = res.get(k,0) + v\n",
    "\n",
    "    return res\n",
    "\n",
    "\n",
    "dict1 = [{\"a\": 1, \"b\": 2}, {\"a\": 3, \"b\": 9}] \n",
    "\n",
    "print(sum_dic(dict1))"
   ]
  }
 ],
 "metadata": {
  "colab": {
   "provenance": []
  },
  "kernelspec": {
   "display_name": "Python 3 (ipykernel)",
   "language": "python",
   "name": "python3"
  },
  "language_info": {
   "codemirror_mode": {
    "name": "ipython",
    "version": 3
   },
   "file_extension": ".py",
   "mimetype": "text/x-python",
   "name": "python",
   "nbconvert_exporter": "python",
   "pygments_lexer": "ipython3",
   "version": "3.12.4"
  }
 },
 "nbformat": 4,
 "nbformat_minor": 5
}
